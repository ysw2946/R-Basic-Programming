{
 "cells": [
  {
   "cell_type": "markdown",
   "metadata": {},
   "source": [
    "## 리스트\n",
    "### 가장 포괄적인 형태의 데이터 구조\n",
    "+ 리스트 생성 : list()"
   ]
  },
  {
   "cell_type": "code",
   "execution_count": 5,
   "metadata": {
    "scrolled": true
   },
   "outputs": [
    {
     "data": {
      "text/html": [
       "<dl>\n",
       "\t<dt>$a</dt>\n",
       "\t\t<dd><style>\n",
       ".list-inline {list-style: none; margin:0; padding: 0}\n",
       ".list-inline>li {display: inline-block}\n",
       ".list-inline>li:not(:last-child)::after {content: \"\\00b7\"; padding: 0 .5ex}\n",
       "</style>\n",
       "<ol class=list-inline><li>'one'</li><li>'two'</li><li>'three'</li></ol>\n",
       "</dd>\n",
       "\t<dt>$b</dt>\n",
       "\t\t<dd><style>\n",
       ".list-inline {list-style: none; margin:0; padding: 0}\n",
       ".list-inline>li {display: inline-block}\n",
       ".list-inline>li:not(:last-child)::after {content: \"\\00b7\"; padding: 0 .5ex}\n",
       "</style>\n",
       "<ol class=list-inline><li>1</li><li>2</li><li>3</li></ol>\n",
       "</dd>\n",
       "\t<dt>$c</dt>\n",
       "\t\t<dd><ol>\n",
       "\t<li>-1</li>\n",
       "\t<li>-5</li>\n",
       "</ol>\n",
       "</dd>\n",
       "\t<dt>$d</dt>\n",
       "\t\t<dd><table>\n",
       "<caption>A data.frame: 2 × 2</caption>\n",
       "<thead>\n",
       "\t<tr><th scope=col>x1</th><th scope=col>x2</th></tr>\n",
       "\t<tr><th scope=col>&lt;fct&gt;</th><th scope=col>&lt;int&gt;</th></tr>\n",
       "</thead>\n",
       "<tbody>\n",
       "\t<tr><td>s1</td><td>1</td></tr>\n",
       "\t<tr><td>s2</td><td>2</td></tr>\n",
       "</tbody>\n",
       "</table>\n",
       "</dd>\n",
       "</dl>\n"
      ],
      "text/latex": [
       "\\begin{description}\n",
       "\\item[\\$a] \\begin{enumerate*}\n",
       "\\item 'one'\n",
       "\\item 'two'\n",
       "\\item 'three'\n",
       "\\end{enumerate*}\n",
       "\n",
       "\\item[\\$b] \\begin{enumerate*}\n",
       "\\item 1\n",
       "\\item 2\n",
       "\\item 3\n",
       "\\end{enumerate*}\n",
       "\n",
       "\\item[\\$c] \\begin{enumerate}\n",
       "\\item -1\n",
       "\\item -5\n",
       "\\end{enumerate}\n",
       "\n",
       "\\item[\\$d] A data.frame: 2 × 2\n",
       "\\begin{tabular}{ll}\n",
       " x1 & x2\\\\\n",
       " <fct> & <int>\\\\\n",
       "\\hline\n",
       "\t s1 & 1\\\\\n",
       "\t s2 & 2\\\\\n",
       "\\end{tabular}\n",
       "\n",
       "\\end{description}\n"
      ],
      "text/markdown": [
       "$a\n",
       ":   1. 'one'\n",
       "2. 'two'\n",
       "3. 'three'\n",
       "\n",
       "\n",
       "\n",
       "$b\n",
       ":   1. 1\n",
       "2. 2\n",
       "3. 3\n",
       "\n",
       "\n",
       "\n",
       "$c\n",
       ":   1. -1\n",
       "2. -5\n",
       "\n",
       "\n",
       "\n",
       "$d\n",
       ":   \n",
       "A data.frame: 2 × 2\n",
       "\n",
       "| x1 &lt;fct&gt; | x2 &lt;int&gt; |\n",
       "|---|---|\n",
       "| s1 | 1 |\n",
       "| s2 | 2 |\n",
       "\n",
       "\n",
       "\n",
       "\n"
      ],
      "text/plain": [
       "$a\n",
       "[1] \"one\"   \"two\"   \"three\"\n",
       "\n",
       "$b\n",
       "[1] 1 2 3\n",
       "\n",
       "$c\n",
       "$c[[1]]\n",
       "[1] -1\n",
       "\n",
       "$c[[2]]\n",
       "[1] -5\n",
       "\n",
       "\n",
       "$d\n",
       "  x1 x2\n",
       "1 s1  1\n",
       "2 s2  2\n"
      ]
     },
     "metadata": {},
     "output_type": "display_data"
    }
   ],
   "source": [
    "x <- list(a=c(\"one\",\"two\",\"three\"), b=1:3, c=list(-1,-5),\n",
    "         d=data.frame(x1=c(\"s1\",\"s2\"),x2=1:2))\n",
    "x"
   ]
  },
  {
   "cell_type": "markdown",
   "metadata": {},
   "source": [
    "### 리스트의 인덱싱\n",
    "+ list[[a]] 또는 list[a]의 형태\n",
    "+ list[a] : 결과는 리스트\n",
    "+ list[[a]] : 또는 list$a : 해당되는 구성요소의 객체 구조"
   ]
  },
  {
   "cell_type": "code",
   "execution_count": 6,
   "metadata": {},
   "outputs": [
    {
     "data": {
      "text/html": [
       "<strong>$a</strong> = <style>\n",
       ".list-inline {list-style: none; margin:0; padding: 0}\n",
       ".list-inline>li {display: inline-block}\n",
       ".list-inline>li:not(:last-child)::after {content: \"\\00b7\"; padding: 0 .5ex}\n",
       "</style>\n",
       "<ol class=list-inline><li>'one'</li><li>'two'</li><li>'three'</li></ol>\n"
      ],
      "text/latex": [
       "\\textbf{\\$a} = \\begin{enumerate*}\n",
       "\\item 'one'\n",
       "\\item 'two'\n",
       "\\item 'three'\n",
       "\\end{enumerate*}\n"
      ],
      "text/markdown": [
       "**$a** = 1. 'one'\n",
       "2. 'two'\n",
       "3. 'three'\n",
       "\n",
       "\n"
      ],
      "text/plain": [
       "$a\n",
       "[1] \"one\"   \"two\"   \"three\"\n"
      ]
     },
     "metadata": {},
     "output_type": "display_data"
    },
    {
     "data": {
      "text/html": [
       "<style>\n",
       ".list-inline {list-style: none; margin:0; padding: 0}\n",
       ".list-inline>li {display: inline-block}\n",
       ".list-inline>li:not(:last-child)::after {content: \"\\00b7\"; padding: 0 .5ex}\n",
       "</style>\n",
       "<ol class=list-inline><li>'one'</li><li>'two'</li><li>'three'</li></ol>\n"
      ],
      "text/latex": [
       "\\begin{enumerate*}\n",
       "\\item 'one'\n",
       "\\item 'two'\n",
       "\\item 'three'\n",
       "\\end{enumerate*}\n"
      ],
      "text/markdown": [
       "1. 'one'\n",
       "2. 'two'\n",
       "3. 'three'\n",
       "\n",
       "\n"
      ],
      "text/plain": [
       "[1] \"one\"   \"two\"   \"three\""
      ]
     },
     "metadata": {},
     "output_type": "display_data"
    },
    {
     "name": "stdout",
     "output_type": "stream",
     "text": [
      "List of 1\n",
      " $ a: chr [1:3] \"one\" \"two\" \"three\"\n",
      " chr [1:3] \"one\" \"two\" \"three\"\n"
     ]
    }
   ],
   "source": [
    "x[1]\n",
    "x[[1]]\n",
    "str(x[1])\n",
    "str(x[[1]])"
   ]
  },
  {
   "cell_type": "markdown",
   "metadata": {},
   "source": [
    "+ 리스트 x의 4번째 요소를 데이터 프레임 형태로 선택"
   ]
  },
  {
   "cell_type": "code",
   "execution_count": 7,
   "metadata": {},
   "outputs": [
    {
     "data": {
      "text/html": [
       "<table>\n",
       "<caption>A data.frame: 2 × 2</caption>\n",
       "<thead>\n",
       "\t<tr><th scope=col>x1</th><th scope=col>x2</th></tr>\n",
       "\t<tr><th scope=col>&lt;fct&gt;</th><th scope=col>&lt;int&gt;</th></tr>\n",
       "</thead>\n",
       "<tbody>\n",
       "\t<tr><td>s1</td><td>1</td></tr>\n",
       "\t<tr><td>s2</td><td>2</td></tr>\n",
       "</tbody>\n",
       "</table>\n"
      ],
      "text/latex": [
       "A data.frame: 2 × 2\n",
       "\\begin{tabular}{ll}\n",
       " x1 & x2\\\\\n",
       " <fct> & <int>\\\\\n",
       "\\hline\n",
       "\t s1 & 1\\\\\n",
       "\t s2 & 2\\\\\n",
       "\\end{tabular}\n"
      ],
      "text/markdown": [
       "\n",
       "A data.frame: 2 × 2\n",
       "\n",
       "| x1 &lt;fct&gt; | x2 &lt;int&gt; |\n",
       "|---|---|\n",
       "| s1 | 1 |\n",
       "| s2 | 2 |\n",
       "\n"
      ],
      "text/plain": [
       "  x1 x2\n",
       "1 s1 1 \n",
       "2 s2 2 "
      ]
     },
     "metadata": {},
     "output_type": "display_data"
    },
    {
     "data": {
      "text/html": [
       "<table>\n",
       "<caption>A data.frame: 2 × 2</caption>\n",
       "<thead>\n",
       "\t<tr><th scope=col>x1</th><th scope=col>x2</th></tr>\n",
       "\t<tr><th scope=col>&lt;fct&gt;</th><th scope=col>&lt;int&gt;</th></tr>\n",
       "</thead>\n",
       "<tbody>\n",
       "\t<tr><td>s1</td><td>1</td></tr>\n",
       "\t<tr><td>s2</td><td>2</td></tr>\n",
       "</tbody>\n",
       "</table>\n"
      ],
      "text/latex": [
       "A data.frame: 2 × 2\n",
       "\\begin{tabular}{ll}\n",
       " x1 & x2\\\\\n",
       " <fct> & <int>\\\\\n",
       "\\hline\n",
       "\t s1 & 1\\\\\n",
       "\t s2 & 2\\\\\n",
       "\\end{tabular}\n"
      ],
      "text/markdown": [
       "\n",
       "A data.frame: 2 × 2\n",
       "\n",
       "| x1 &lt;fct&gt; | x2 &lt;int&gt; |\n",
       "|---|---|\n",
       "| s1 | 1 |\n",
       "| s2 | 2 |\n",
       "\n"
      ],
      "text/plain": [
       "  x1 x2\n",
       "1 s1 1 \n",
       "2 s2 2 "
      ]
     },
     "metadata": {},
     "output_type": "display_data"
    }
   ],
   "source": [
    "x[[4]]\n",
    "x$d"
   ]
  },
  {
   "cell_type": "markdown",
   "metadata": {},
   "source": [
    "+ 리스트 x의 4번째 요소의 두 번째 열을 벡터 형태로 선택"
   ]
  },
  {
   "cell_type": "code",
   "execution_count": 13,
   "metadata": {},
   "outputs": [
    {
     "data": {
      "text/html": [
       "<style>\n",
       ".list-inline {list-style: none; margin:0; padding: 0}\n",
       ".list-inline>li {display: inline-block}\n",
       ".list-inline>li:not(:last-child)::after {content: \"\\00b7\"; padding: 0 .5ex}\n",
       "</style>\n",
       "<ol class=list-inline><li>1</li><li>2</li></ol>\n"
      ],
      "text/latex": [
       "\\begin{enumerate*}\n",
       "\\item 1\n",
       "\\item 2\n",
       "\\end{enumerate*}\n"
      ],
      "text/markdown": [
       "1. 1\n",
       "2. 2\n",
       "\n",
       "\n"
      ],
      "text/plain": [
       "[1] 1 2"
      ]
     },
     "metadata": {},
     "output_type": "display_data"
    },
    {
     "data": {
      "text/html": [
       "<style>\n",
       ".list-inline {list-style: none; margin:0; padding: 0}\n",
       ".list-inline>li {display: inline-block}\n",
       ".list-inline>li:not(:last-child)::after {content: \"\\00b7\"; padding: 0 .5ex}\n",
       "</style>\n",
       "<ol class=list-inline><li>1</li><li>2</li></ol>\n"
      ],
      "text/latex": [
       "\\begin{enumerate*}\n",
       "\\item 1\n",
       "\\item 2\n",
       "\\end{enumerate*}\n"
      ],
      "text/markdown": [
       "1. 1\n",
       "2. 2\n",
       "\n",
       "\n"
      ],
      "text/plain": [
       "[1] 1 2"
      ]
     },
     "metadata": {},
     "output_type": "display_data"
    }
   ],
   "source": [
    "x[[4]][[2]]\n",
    "x$d$x2"
   ]
  },
  {
   "cell_type": "markdown",
   "metadata": {},
   "source": [
    "+ 리스트 x의 4번째 요소의 두 번째 열을 데이터 프레임 형태로 선택"
   ]
  },
  {
   "cell_type": "code",
   "execution_count": 14,
   "metadata": {
    "scrolled": false
   },
   "outputs": [
    {
     "data": {
      "text/html": [
       "<table>\n",
       "<caption>A data.frame: 2 × 1</caption>\n",
       "<thead>\n",
       "\t<tr><th scope=col>x2</th></tr>\n",
       "\t<tr><th scope=col>&lt;int&gt;</th></tr>\n",
       "</thead>\n",
       "<tbody>\n",
       "\t<tr><td>1</td></tr>\n",
       "\t<tr><td>2</td></tr>\n",
       "</tbody>\n",
       "</table>\n"
      ],
      "text/latex": [
       "A data.frame: 2 × 1\n",
       "\\begin{tabular}{l}\n",
       " x2\\\\\n",
       " <int>\\\\\n",
       "\\hline\n",
       "\t 1\\\\\n",
       "\t 2\\\\\n",
       "\\end{tabular}\n"
      ],
      "text/markdown": [
       "\n",
       "A data.frame: 2 × 1\n",
       "\n",
       "| x2 &lt;int&gt; |\n",
       "|---|\n",
       "| 1 |\n",
       "| 2 |\n",
       "\n"
      ],
      "text/plain": [
       "  x2\n",
       "1 1 \n",
       "2 2 "
      ]
     },
     "metadata": {},
     "output_type": "display_data"
    },
    {
     "data": {
      "text/html": [
       "<table>\n",
       "<caption>A data.frame: 2 × 1</caption>\n",
       "<thead>\n",
       "\t<tr><th scope=col>x2</th></tr>\n",
       "\t<tr><th scope=col>&lt;int&gt;</th></tr>\n",
       "</thead>\n",
       "<tbody>\n",
       "\t<tr><td>1</td></tr>\n",
       "\t<tr><td>2</td></tr>\n",
       "</tbody>\n",
       "</table>\n"
      ],
      "text/latex": [
       "A data.frame: 2 × 1\n",
       "\\begin{tabular}{l}\n",
       " x2\\\\\n",
       " <int>\\\\\n",
       "\\hline\n",
       "\t 1\\\\\n",
       "\t 2\\\\\n",
       "\\end{tabular}\n"
      ],
      "text/markdown": [
       "\n",
       "A data.frame: 2 × 1\n",
       "\n",
       "| x2 &lt;int&gt; |\n",
       "|---|\n",
       "| 1 |\n",
       "| 2 |\n",
       "\n"
      ],
      "text/plain": [
       "  x2\n",
       "1 1 \n",
       "2 2 "
      ]
     },
     "metadata": {},
     "output_type": "display_data"
    }
   ],
   "source": [
    "x[[4]][2]\n",
    "x$d[2]"
   ]
  },
  {
   "cell_type": "markdown",
   "metadata": {},
   "source": [
    "### R에서 리스트의 활용\n",
    "+ 산만하게 흩어져 있는 정보를 간편하게 묶을 수 있음\n",
    "+ 많은 R 함수들의 수행 결과가 리스트의 형태로 출력\n",
    "+ 그 중 원하는 결과를 리스트의 인덱싱 기법으로 선택하여 사용"
   ]
  },
  {
   "cell_type": "markdown",
   "metadata": {},
   "source": [
    "# 3장. 데이터 입력\n",
    "+ 텍스트 파일 불러오기 1 : base R 함수 활용\n",
    "+ 텍스트 파일 불러오기 2 : 패키지 readr 함수 활용\n",
    "+ Excel 파일 불러오기\n",
    "+ 웹에서 데이터 풀러오기"
   ]
  },
  {
   "cell_type": "markdown",
   "metadata": {},
   "source": [
    "### 텍스트 파일 불러오기 1 : base R 함수 활용\n",
    "+ 함수 scan()으로 한 변수의 관찰값 불러오기"
   ]
  },
  {
   "cell_type": "code",
   "execution_count": 15,
   "metadata": {},
   "outputs": [
    {
     "data": {
      "text/html": [
       "<style>\n",
       ".list-inline {list-style: none; margin:0; padding: 0}\n",
       ".list-inline>li {display: inline-block}\n",
       ".list-inline>li:not(:last-child)::after {content: \"\\00b7\"; padding: 0 .5ex}\n",
       "</style>\n",
       "<ol class=list-inline><li>24</li><li>35</li><li>28</li><li>21</li><li>25</li></ol>\n"
      ],
      "text/latex": [
       "\\begin{enumerate*}\n",
       "\\item 24\n",
       "\\item 35\n",
       "\\item 28\n",
       "\\item 21\n",
       "\\item 25\n",
       "\\end{enumerate*}\n"
      ],
      "text/markdown": [
       "1. 24\n",
       "2. 35\n",
       "3. 28\n",
       "4. 21\n",
       "5. 25\n",
       "\n",
       "\n"
      ],
      "text/plain": [
       "[1] 24 35 28 21 25"
      ]
     },
     "metadata": {},
     "output_type": "display_data"
    }
   ],
   "source": [
    "x <- scan(\"D://알기초프로그래밍/ch3_data/data1.txt\")\n",
    "x"
   ]
  },
  {
   "cell_type": "markdown",
   "metadata": {},
   "source": [
    "+ 함수 read.table()로 2차원 형태의 데이터 파일 불러오기\n",
    "+ stringsAsFactors=FALSE로 문자열 요인으로의 자동 변환 방지"
   ]
  },
  {
   "cell_type": "code",
   "execution_count": 25,
   "metadata": {},
   "outputs": [
    {
     "data": {
      "text/html": [
       "'factor'"
      ],
      "text/latex": [
       "'factor'"
      ],
      "text/markdown": [
       "'factor'"
      ],
      "text/plain": [
       "[1] \"factor\""
      ]
     },
     "metadata": {},
     "output_type": "display_data"
    },
    {
     "data": {
      "text/html": [
       "<table>\n",
       "<caption>A data.frame: 4 × 3</caption>\n",
       "<thead>\n",
       "\t<tr><th scope=col>V1</th><th scope=col>V2</th><th scope=col>V3</th></tr>\n",
       "\t<tr><th scope=col>&lt;int&gt;</th><th scope=col>&lt;fct&gt;</th><th scope=col>&lt;int&gt;</th></tr>\n",
       "</thead>\n",
       "<tbody>\n",
       "\t<tr><td>24</td><td>M</td><td>2000</td></tr>\n",
       "\t<tr><td>35</td><td>F</td><td>3100</td></tr>\n",
       "\t<tr><td>28</td><td>F</td><td>3800</td></tr>\n",
       "\t<tr><td>21</td><td>F</td><td>2800</td></tr>\n",
       "</tbody>\n",
       "</table>\n"
      ],
      "text/latex": [
       "A data.frame: 4 × 3\n",
       "\\begin{tabular}{lll}\n",
       " V1 & V2 & V3\\\\\n",
       " <int> & <fct> & <int>\\\\\n",
       "\\hline\n",
       "\t 24 & M & 2000\\\\\n",
       "\t 35 & F & 3100\\\\\n",
       "\t 28 & F & 3800\\\\\n",
       "\t 21 & F & 2800\\\\\n",
       "\\end{tabular}\n"
      ],
      "text/markdown": [
       "\n",
       "A data.frame: 4 × 3\n",
       "\n",
       "| V1 &lt;int&gt; | V2 &lt;fct&gt; | V3 &lt;int&gt; |\n",
       "|---|---|---|\n",
       "| 24 | M | 2000 |\n",
       "| 35 | F | 3100 |\n",
       "| 28 | F | 3800 |\n",
       "| 21 | F | 2800 |\n",
       "\n"
      ],
      "text/plain": [
       "  V1 V2 V3  \n",
       "1 24 M  2000\n",
       "2 35 F  3100\n",
       "3 28 F  3800\n",
       "4 21 F  2800"
      ]
     },
     "metadata": {},
     "output_type": "display_data"
    }
   ],
   "source": [
    "df1 <- read.table(\"D://알기초프로그래밍/ch3_data/data2_1.txt\")\n",
    "class(df1$V2)\n",
    "df1"
   ]
  },
  {
   "cell_type": "markdown",
   "metadata": {},
   "source": [
    "+ 데이터 파일의 첫 줄에 변수 이름이 있는 경우"
   ]
  },
  {
   "cell_type": "code",
   "execution_count": 24,
   "metadata": {},
   "outputs": [
    {
     "data": {
      "text/html": [
       "<table>\n",
       "<caption>A data.frame: 4 × 3</caption>\n",
       "<thead>\n",
       "\t<tr><th scope=col>age</th><th scope=col>gender</th><th scope=col>income</th></tr>\n",
       "\t<tr><th scope=col>&lt;int&gt;</th><th scope=col>&lt;chr&gt;</th><th scope=col>&lt;int&gt;</th></tr>\n",
       "</thead>\n",
       "<tbody>\n",
       "\t<tr><td>24</td><td>M</td><td>2000</td></tr>\n",
       "\t<tr><td>35</td><td>F</td><td>3100</td></tr>\n",
       "\t<tr><td>28</td><td>F</td><td>3800</td></tr>\n",
       "\t<tr><td>21</td><td>F</td><td>2800</td></tr>\n",
       "</tbody>\n",
       "</table>\n"
      ],
      "text/latex": [
       "A data.frame: 4 × 3\n",
       "\\begin{tabular}{lll}\n",
       " age & gender & income\\\\\n",
       " <int> & <chr> & <int>\\\\\n",
       "\\hline\n",
       "\t 24 & M & 2000\\\\\n",
       "\t 35 & F & 3100\\\\\n",
       "\t 28 & F & 3800\\\\\n",
       "\t 21 & F & 2800\\\\\n",
       "\\end{tabular}\n"
      ],
      "text/markdown": [
       "\n",
       "A data.frame: 4 × 3\n",
       "\n",
       "| age &lt;int&gt; | gender &lt;chr&gt; | income &lt;int&gt; |\n",
       "|---|---|---|\n",
       "| 24 | M | 2000 |\n",
       "| 35 | F | 3100 |\n",
       "| 28 | F | 3800 |\n",
       "| 21 | F | 2800 |\n",
       "\n"
      ],
      "text/plain": [
       "  age gender income\n",
       "1 24  M      2000  \n",
       "2 35  F      3100  \n",
       "3 28  F      3800  \n",
       "4 21  F      2800  "
      ]
     },
     "metadata": {},
     "output_type": "display_data"
    }
   ],
   "source": [
    "df2 <- read.table(\"D://알기초프로그래밍/ch3_data/data2_2.txt\", header=TRUE,\n",
    "                 stringsAsFactors=FALSE)\n",
    "df2"
   ]
  },
  {
   "cell_type": "markdown",
   "metadata": {},
   "source": [
    "+ 데이터 파일에 # 기호로 시작되는 코멘트가 있는 경우"
   ]
  },
  {
   "cell_type": "code",
   "execution_count": 26,
   "metadata": {},
   "outputs": [
    {
     "data": {
      "text/html": [
       "<table>\n",
       "<caption>A data.frame: 4 × 3</caption>\n",
       "<thead>\n",
       "\t<tr><th scope=col>x1</th><th scope=col>x2</th><th scope=col>x3</th></tr>\n",
       "\t<tr><th scope=col>&lt;int&gt;</th><th scope=col>&lt;int&gt;</th><th scope=col>&lt;int&gt;</th></tr>\n",
       "</thead>\n",
       "<tbody>\n",
       "\t<tr><td>24</td><td>1</td><td>2000</td></tr>\n",
       "\t<tr><td>35</td><td>0</td><td>3100</td></tr>\n",
       "\t<tr><td>28</td><td>0</td><td>3800</td></tr>\n",
       "\t<tr><td>21</td><td>0</td><td>2800</td></tr>\n",
       "</tbody>\n",
       "</table>\n"
      ],
      "text/latex": [
       "A data.frame: 4 × 3\n",
       "\\begin{tabular}{lll}\n",
       " x1 & x2 & x3\\\\\n",
       " <int> & <int> & <int>\\\\\n",
       "\\hline\n",
       "\t 24 & 1 & 2000\\\\\n",
       "\t 35 & 0 & 3100\\\\\n",
       "\t 28 & 0 & 3800\\\\\n",
       "\t 21 & 0 & 2800\\\\\n",
       "\\end{tabular}\n"
      ],
      "text/markdown": [
       "\n",
       "A data.frame: 4 × 3\n",
       "\n",
       "| x1 &lt;int&gt; | x2 &lt;int&gt; | x3 &lt;int&gt; |\n",
       "|---|---|---|\n",
       "| 24 | 1 | 2000 |\n",
       "| 35 | 0 | 3100 |\n",
       "| 28 | 0 | 3800 |\n",
       "| 21 | 0 | 2800 |\n",
       "\n"
      ],
      "text/plain": [
       "  x1 x2 x3  \n",
       "1 24 1  2000\n",
       "2 35 0  3100\n",
       "3 28 0  3800\n",
       "4 21 0  2800"
      ]
     },
     "metadata": {},
     "output_type": "display_data"
    }
   ],
   "source": [
    "df3 <- read.table(\"D://알기초프로그래밍/ch3_data/data2_3.txt\", header=TRUE)\n",
    "df3"
   ]
  },
  {
   "cell_type": "code",
   "execution_count": 1,
   "metadata": {},
   "outputs": [
    {
     "data": {
      "text/html": [
       "<table>\n",
       "<caption>A data.frame: 4 × 3</caption>\n",
       "<thead>\n",
       "\t<tr><th scope=col>age</th><th scope=col>gender</th><th scope=col>income</th></tr>\n",
       "\t<tr><th scope=col>&lt;int&gt;</th><th scope=col>&lt;chr&gt;</th><th scope=col>&lt;int&gt;</th></tr>\n",
       "</thead>\n",
       "<tbody>\n",
       "\t<tr><td>24</td><td>M </td><td>2000</td></tr>\n",
       "\t<tr><td>NA</td><td>F </td><td>3100</td></tr>\n",
       "\t<tr><td>28</td><td>NA</td><td>3800</td></tr>\n",
       "\t<tr><td>21</td><td>F </td><td>2800</td></tr>\n",
       "</tbody>\n",
       "</table>\n"
      ],
      "text/latex": [
       "A data.frame: 4 × 3\n",
       "\\begin{tabular}{lll}\n",
       " age & gender & income\\\\\n",
       " <int> & <chr> & <int>\\\\\n",
       "\\hline\n",
       "\t 24 & M  & 2000\\\\\n",
       "\t NA & F  & 3100\\\\\n",
       "\t 28 & NA & 3800\\\\\n",
       "\t 21 & F  & 2800\\\\\n",
       "\\end{tabular}\n"
      ],
      "text/markdown": [
       "\n",
       "A data.frame: 4 × 3\n",
       "\n",
       "| age &lt;int&gt; | gender &lt;chr&gt; | income &lt;int&gt; |\n",
       "|---|---|---|\n",
       "| 24 | M  | 2000 |\n",
       "| NA | F  | 3100 |\n",
       "| 28 | NA | 3800 |\n",
       "| 21 | F  | 2800 |\n",
       "\n"
      ],
      "text/plain": [
       "  age gender income\n",
       "1 24  M      2000  \n",
       "2 NA  F      3100  \n",
       "3 28  NA     3800  \n",
       "4 21  F      2800  "
      ]
     },
     "metadata": {},
     "output_type": "display_data"
    }
   ],
   "source": [
    "df4 <- read.table(\"D://알기초프로그래밍/ch3_data/data2_4.txt\", header=TRUE,\n",
    "                 na.strings=\".\", stringsAsFactors=FALSE)\n",
    "df4"
   ]
  },
  {
   "cell_type": "code",
   "execution_count": 4,
   "metadata": {},
   "outputs": [
    {
     "data": {
      "text/html": [
       "<table>\n",
       "<caption>A data.frame: 4 × 3</caption>\n",
       "<thead>\n",
       "\t<tr><th scope=col>age</th><th scope=col>gender</th><th scope=col>income</th></tr>\n",
       "\t<tr><th scope=col>&lt;int&gt;</th><th scope=col>&lt;chr&gt;</th><th scope=col>&lt;int&gt;</th></tr>\n",
       "</thead>\n",
       "<tbody>\n",
       "\t<tr><td>24</td><td> M</td><td>2000</td></tr>\n",
       "\t<tr><td>35</td><td> F</td><td>3100</td></tr>\n",
       "\t<tr><td>28</td><td> F</td><td>3800</td></tr>\n",
       "\t<tr><td>21</td><td> F</td><td>2800</td></tr>\n",
       "</tbody>\n",
       "</table>\n"
      ],
      "text/latex": [
       "A data.frame: 4 × 3\n",
       "\\begin{tabular}{lll}\n",
       " age & gender & income\\\\\n",
       " <int> & <chr> & <int>\\\\\n",
       "\\hline\n",
       "\t 24 &  M & 2000\\\\\n",
       "\t 35 &  F & 3100\\\\\n",
       "\t 28 &  F & 3800\\\\\n",
       "\t 21 &  F & 2800\\\\\n",
       "\\end{tabular}\n"
      ],
      "text/markdown": [
       "\n",
       "A data.frame: 4 × 3\n",
       "\n",
       "| age &lt;int&gt; | gender &lt;chr&gt; | income &lt;int&gt; |\n",
       "|---|---|---|\n",
       "| 24 |  M | 2000 |\n",
       "| 35 |  F | 3100 |\n",
       "| 28 |  F | 3800 |\n",
       "| 21 |  F | 2800 |\n",
       "\n"
      ],
      "text/plain": [
       "  age gender income\n",
       "1 24   M     2000  \n",
       "2 35   F     3100  \n",
       "3 28   F     3800  \n",
       "4 21   F     2800  "
      ]
     },
     "metadata": {},
     "output_type": "display_data"
    }
   ],
   "source": [
    "df5 <- read.table(\"D://알기초프로그래밍/ch3_data/data3.txt\", header=TRUE,\n",
    "                  sep=\",\",stringsAsFactors=FALSE)\n",
    "df5"
   ]
  },
  {
   "cell_type": "markdown",
   "metadata": {},
   "source": [
    "+ read.csv()는 read.table()과 본질적으로 동일한 함수\n",
    "+ 차이점은 옵션 header=TRUE 와 sep=\",\"가 디폴트"
   ]
  },
  {
   "cell_type": "code",
   "execution_count": 6,
   "metadata": {},
   "outputs": [
    {
     "data": {
      "text/html": [
       "<table>\n",
       "<caption>A data.frame: 4 × 3</caption>\n",
       "<thead>\n",
       "\t<tr><th scope=col>age</th><th scope=col>gender</th><th scope=col>income</th></tr>\n",
       "\t<tr><th scope=col>&lt;int&gt;</th><th scope=col>&lt;chr&gt;</th><th scope=col>&lt;int&gt;</th></tr>\n",
       "</thead>\n",
       "<tbody>\n",
       "\t<tr><td>24</td><td> M</td><td>2000</td></tr>\n",
       "\t<tr><td>35</td><td> F</td><td>3100</td></tr>\n",
       "\t<tr><td>28</td><td> F</td><td>3800</td></tr>\n",
       "\t<tr><td>21</td><td> F</td><td>2800</td></tr>\n",
       "</tbody>\n",
       "</table>\n"
      ],
      "text/latex": [
       "A data.frame: 4 × 3\n",
       "\\begin{tabular}{lll}\n",
       " age & gender & income\\\\\n",
       " <int> & <chr> & <int>\\\\\n",
       "\\hline\n",
       "\t 24 &  M & 2000\\\\\n",
       "\t 35 &  F & 3100\\\\\n",
       "\t 28 &  F & 3800\\\\\n",
       "\t 21 &  F & 2800\\\\\n",
       "\\end{tabular}\n"
      ],
      "text/markdown": [
       "\n",
       "A data.frame: 4 × 3\n",
       "\n",
       "| age &lt;int&gt; | gender &lt;chr&gt; | income &lt;int&gt; |\n",
       "|---|---|---|\n",
       "| 24 |  M | 2000 |\n",
       "| 35 |  F | 3100 |\n",
       "| 28 |  F | 3800 |\n",
       "| 21 |  F | 2800 |\n",
       "\n"
      ],
      "text/plain": [
       "  age gender income\n",
       "1 24   M     2000  \n",
       "2 35   F     3100  \n",
       "3 28   F     3800  \n",
       "4 21   F     2800  "
      ]
     },
     "metadata": {},
     "output_type": "display_data"
    }
   ],
   "source": [
    "df6 <- read.csv(\"D://알기초프로그래밍/ch3_data/data3.txt\",\n",
    "                  stringsAsFactors=FALSE)\n",
    "df6"
   ]
  },
  {
   "cell_type": "markdown",
   "metadata": {},
   "source": [
    "### 함수 read.fwf()로 고정된 포멧 구조를 갖는 2차원 형태의 데이터 파일 불러오기\n",
    "+ 관찰값들이 빈 칸이나 콤마 등으로 구분되어 있어야 하는 함수 read.table()로는 불러올 수 없는 구조"
   ]
  },
  {
   "cell_type": "code",
   "execution_count": 7,
   "metadata": {},
   "outputs": [
    {
     "data": {
      "text/html": [
       "<table>\n",
       "<caption>A data.frame: 4 × 3</caption>\n",
       "<thead>\n",
       "\t<tr><th scope=col>V1</th><th scope=col>V2</th><th scope=col>V3</th></tr>\n",
       "\t<tr><th scope=col>&lt;int&gt;</th><th scope=col>&lt;chr&gt;</th><th scope=col>&lt;int&gt;</th></tr>\n",
       "</thead>\n",
       "<tbody>\n",
       "\t<tr><td>24</td><td>M</td><td>2000</td></tr>\n",
       "\t<tr><td>35</td><td>F</td><td>3100</td></tr>\n",
       "\t<tr><td>28</td><td>F</td><td>3800</td></tr>\n",
       "\t<tr><td>21</td><td>F</td><td>2800</td></tr>\n",
       "</tbody>\n",
       "</table>\n"
      ],
      "text/latex": [
       "A data.frame: 4 × 3\n",
       "\\begin{tabular}{lll}\n",
       " V1 & V2 & V3\\\\\n",
       " <int> & <chr> & <int>\\\\\n",
       "\\hline\n",
       "\t 24 & M & 2000\\\\\n",
       "\t 35 & F & 3100\\\\\n",
       "\t 28 & F & 3800\\\\\n",
       "\t 21 & F & 2800\\\\\n",
       "\\end{tabular}\n"
      ],
      "text/markdown": [
       "\n",
       "A data.frame: 4 × 3\n",
       "\n",
       "| V1 &lt;int&gt; | V2 &lt;chr&gt; | V3 &lt;int&gt; |\n",
       "|---|---|---|\n",
       "| 24 | M | 2000 |\n",
       "| 35 | F | 3100 |\n",
       "| 28 | F | 3800 |\n",
       "| 21 | F | 2800 |\n",
       "\n"
      ],
      "text/plain": [
       "  V1 V2 V3  \n",
       "1 24 M  2000\n",
       "2 35 F  3100\n",
       "3 28 F  3800\n",
       "4 21 F  2800"
      ]
     },
     "metadata": {},
     "output_type": "display_data"
    }
   ],
   "source": [
    "df7 <- read.fwf(\"D://알기초프로그래밍/ch3_data/data4_1.txt\", widths=c(2,1,4),\n",
    "               stringsAsFactors=FALSE)\n",
    "df7"
   ]
  },
  {
   "cell_type": "code",
   "execution_count": 9,
   "metadata": {},
   "outputs": [
    {
     "data": {
      "text/html": [
       "<table>\n",
       "<caption>A data.frame: 4 × 3</caption>\n",
       "<thead>\n",
       "\t<tr><th scope=col>age</th><th scope=col>gender</th><th scope=col>income</th></tr>\n",
       "\t<tr><th scope=col>&lt;int&gt;</th><th scope=col>&lt;chr&gt;</th><th scope=col>&lt;int&gt;</th></tr>\n",
       "</thead>\n",
       "<tbody>\n",
       "\t<tr><td>24</td><td>M</td><td>2000</td></tr>\n",
       "\t<tr><td>35</td><td>F</td><td>3100</td></tr>\n",
       "\t<tr><td>28</td><td>F</td><td>3800</td></tr>\n",
       "\t<tr><td>21</td><td>F</td><td>2800</td></tr>\n",
       "</tbody>\n",
       "</table>\n"
      ],
      "text/latex": [
       "A data.frame: 4 × 3\n",
       "\\begin{tabular}{lll}\n",
       " age & gender & income\\\\\n",
       " <int> & <chr> & <int>\\\\\n",
       "\\hline\n",
       "\t 24 & M & 2000\\\\\n",
       "\t 35 & F & 3100\\\\\n",
       "\t 28 & F & 3800\\\\\n",
       "\t 21 & F & 2800\\\\\n",
       "\\end{tabular}\n"
      ],
      "text/markdown": [
       "\n",
       "A data.frame: 4 × 3\n",
       "\n",
       "| age &lt;int&gt; | gender &lt;chr&gt; | income &lt;int&gt; |\n",
       "|---|---|---|\n",
       "| 24 | M | 2000 |\n",
       "| 35 | F | 3100 |\n",
       "| 28 | F | 3800 |\n",
       "| 21 | F | 2800 |\n",
       "\n"
      ],
      "text/plain": [
       "  age gender income\n",
       "1 24  M      2000  \n",
       "2 35  F      3100  \n",
       "3 28  F      3800  \n",
       "4 21  F      2800  "
      ]
     },
     "metadata": {},
     "output_type": "display_data"
    }
   ],
   "source": [
    "df8 <- read.fwf(\"D://알기초프로그래밍/ch3_data/data4_2.txt\", widths=c(2,1,4),\n",
    "               header=TRUE,stringsAsFactors=FALSE)\n",
    "df8"
   ]
  },
  {
   "cell_type": "markdown",
   "metadata": {},
   "source": [
    "### 외부 데이터 파일이 저장되어 있는 폴더의 정확한 경로를 잊은 경우\n",
    "+ 옵션 file.choose()를 데이터 파일의 경로 대신 사용"
   ]
  },
  {
   "cell_type": "code",
   "execution_count": 10,
   "metadata": {},
   "outputs": [
    {
     "ename": "ERROR",
     "evalue": "Error in file.choose(): 파일선택이 취소되었습니다\n",
     "output_type": "error",
     "traceback": [
      "Error in file.choose(): 파일선택이 취소되었습니다\nTraceback:\n",
      "1. read.table(file.choose())",
      "2. file.choose()"
     ]
    }
   ],
   "source": [
    "read.table(file.choose())"
   ]
  },
  {
   "cell_type": "markdown",
   "metadata": {},
   "source": [
    "### 함수 wirte.table()를 사용하여 R 데이터 객체를 외부 텍스트 파일로 저장"
   ]
  },
  {
   "cell_type": "code",
   "execution_count": 12,
   "metadata": {},
   "outputs": [],
   "source": [
    "write.table(women, \"D://알기초프로그래밍/ch3_data/out3_1.txt\")\n",
    "write.table(women, \"D://알기초프로그래밍/ch3_data/out3_2.txt\", quote=FALSE)\n",
    "write.table(women, \"D://알기초프로그래밍/ch3_data/out3_3.txt\", quote=FALSE,\n",
    "            row.names=FALSE)\n",
    "write.table(women, \"D://알기초프로그래밍/ch3_data/out3_4.txt\", quote=FALSE,\n",
    "            row.names=FALSE, sep=\",\")\n",
    "write.csv(women, \"D://알기초프로그래밍/ch3_data/out3_4.txt\", quote=FALSE,\n",
    "          row.names=FALSE)"
   ]
  },
  {
   "cell_type": "markdown",
   "metadata": {},
   "source": [
    "## 텍스트 파일 불러오기 : 패키지 readr 함수의 활용\n",
    "+ Base R 함수 read.table(): 크기가 큰 파일을 불러오는 경우에는 시간이 많이 걸리는 문제가 있음\n",
    "+ 대안 : tidyverse에 속한 readr의 함수\n",
    "+ read_table() : 자료가 빈 칸으로 구분된 경우\n",
    "+ read_csv() : 자료가 콤마로 구분된 경우\n",
    "+ read_tsv() : 자료가 tab으로 구분된 경우\n",
    "+ read_delim() : 자료가 다른 형태의 구분자로 구분된 경우\n",
    "+ read_fwf() : 고정 포맷 구조를 갖는 자료"
   ]
  },
  {
   "cell_type": "markdown",
   "metadata": {},
   "source": [
    "### read.csv()로 외부 테스트 파일 불러오기: 자료가 콤마로 구분된 경우\n",
    "+ 파일의 첫 줄에 변수 이름이 있는 경우\n",
    "+ 자료의 유형을 스스로 파악\n",
    "+ 문자형 자료를 요인으로 자동변환하지 않음\n",
    "+ 중간에 빈 칸이 있는 변수 이름 사용 가능\n",
    "+ 결과는 tibble"
   ]
  },
  {
   "cell_type": "code",
   "execution_count": 14,
   "metadata": {},
   "outputs": [
    {
     "name": "stderr",
     "output_type": "stream",
     "text": [
      "Parsed with column specification:\n",
      "cols(\n",
      "  `var 1` = \u001b[32mcol_double()\u001b[39m,\n",
      "  `var 2` = \u001b[31mcol_character()\u001b[39m,\n",
      "  `var 3` = \u001b[32mcol_double()\u001b[39m\n",
      ")\n",
      "\n"
     ]
    },
    {
     "data": {
      "text/html": [
       "<table>\n",
       "<caption>A spec_tbl_df: 4 × 3</caption>\n",
       "<thead>\n",
       "\t<tr><th scope=col>var 1</th><th scope=col>var 2</th><th scope=col>var 3</th></tr>\n",
       "\t<tr><th scope=col>&lt;dbl&gt;</th><th scope=col>&lt;chr&gt;</th><th scope=col>&lt;dbl&gt;</th></tr>\n",
       "</thead>\n",
       "<tbody>\n",
       "\t<tr><td>24</td><td>M</td><td>2000</td></tr>\n",
       "\t<tr><td>35</td><td>F</td><td>3100</td></tr>\n",
       "\t<tr><td>28</td><td>F</td><td>3800</td></tr>\n",
       "\t<tr><td>21</td><td>F</td><td>2800</td></tr>\n",
       "</tbody>\n",
       "</table>\n"
      ],
      "text/latex": [
       "A spec\\_tbl\\_df: 4 × 3\n",
       "\\begin{tabular}{lll}\n",
       " var 1 & var 2 & var 3\\\\\n",
       " <dbl> & <chr> & <dbl>\\\\\n",
       "\\hline\n",
       "\t 24 & M & 2000\\\\\n",
       "\t 35 & F & 3100\\\\\n",
       "\t 28 & F & 3800\\\\\n",
       "\t 21 & F & 2800\\\\\n",
       "\\end{tabular}\n"
      ],
      "text/markdown": [
       "\n",
       "A spec_tbl_df: 4 × 3\n",
       "\n",
       "| var 1 &lt;dbl&gt; | var 2 &lt;chr&gt; | var 3 &lt;dbl&gt; |\n",
       "|---|---|---|\n",
       "| 24 | M | 2000 |\n",
       "| 35 | F | 3100 |\n",
       "| 28 | F | 3800 |\n",
       "| 21 | F | 2800 |\n",
       "\n"
      ],
      "text/plain": [
       "  var 1 var 2 var 3\n",
       "1 24    M     2000 \n",
       "2 35    F     3100 \n",
       "3 28    F     3800 \n",
       "4 21    F     2800 "
      ]
     },
     "metadata": {},
     "output_type": "display_data"
    }
   ],
   "source": [
    "library(readr)\n",
    "read_csv(\"D://알기초프로그래밍/ch3_data/data5_1.txt\")"
   ]
  },
  {
   "cell_type": "markdown",
   "metadata": {},
   "source": [
    "### 자료의 유형을 직접 선언하는 경우 : 옵션 col_types"
   ]
  },
  {
   "cell_type": "code",
   "execution_count": 15,
   "metadata": {},
   "outputs": [
    {
     "data": {
      "text/html": [
       "<table>\n",
       "<caption>A spec_tbl_df: 4 × 3</caption>\n",
       "<thead>\n",
       "\t<tr><th scope=col>var 1</th><th scope=col>var 2</th><th scope=col>var 3</th></tr>\n",
       "\t<tr><th scope=col>&lt;int&gt;</th><th scope=col>&lt;chr&gt;</th><th scope=col>&lt;int&gt;</th></tr>\n",
       "</thead>\n",
       "<tbody>\n",
       "\t<tr><td>24</td><td>M</td><td>2000</td></tr>\n",
       "\t<tr><td>35</td><td>F</td><td>3100</td></tr>\n",
       "\t<tr><td>28</td><td>F</td><td>3800</td></tr>\n",
       "\t<tr><td>21</td><td>F</td><td>2800</td></tr>\n",
       "</tbody>\n",
       "</table>\n"
      ],
      "text/latex": [
       "A spec\\_tbl\\_df: 4 × 3\n",
       "\\begin{tabular}{lll}\n",
       " var 1 & var 2 & var 3\\\\\n",
       " <int> & <chr> & <int>\\\\\n",
       "\\hline\n",
       "\t 24 & M & 2000\\\\\n",
       "\t 35 & F & 3100\\\\\n",
       "\t 28 & F & 3800\\\\\n",
       "\t 21 & F & 2800\\\\\n",
       "\\end{tabular}\n"
      ],
      "text/markdown": [
       "\n",
       "A spec_tbl_df: 4 × 3\n",
       "\n",
       "| var 1 &lt;int&gt; | var 2 &lt;chr&gt; | var 3 &lt;int&gt; |\n",
       "|---|---|---|\n",
       "| 24 | M | 2000 |\n",
       "| 35 | F | 3100 |\n",
       "| 28 | F | 3800 |\n",
       "| 21 | F | 2800 |\n",
       "\n"
      ],
      "text/plain": [
       "  var 1 var 2 var 3\n",
       "1 24    M     2000 \n",
       "2 35    F     3100 \n",
       "3 28    F     3800 \n",
       "4 21    F     2800 "
      ]
     },
     "metadata": {},
     "output_type": "display_data"
    }
   ],
   "source": [
    "read_csv(\"D://알기초프로그래밍/ch3_data/data5_1.txt\",col_types=\"ici\")"
   ]
  },
  {
   "cell_type": "markdown",
   "metadata": {},
   "source": [
    "### 파일의 첫 줄에 변수이름이 없는 경우"
   ]
  },
  {
   "cell_type": "code",
   "execution_count": 16,
   "metadata": {},
   "outputs": [
    {
     "data": {
      "text/html": [
       "<table>\n",
       "<caption>A spec_tbl_df: 4 × 3</caption>\n",
       "<thead>\n",
       "\t<tr><th scope=col>X1</th><th scope=col>X2</th><th scope=col>X3</th></tr>\n",
       "\t<tr><th scope=col>&lt;int&gt;</th><th scope=col>&lt;chr&gt;</th><th scope=col>&lt;int&gt;</th></tr>\n",
       "</thead>\n",
       "<tbody>\n",
       "\t<tr><td>24</td><td>M</td><td>2000</td></tr>\n",
       "\t<tr><td>35</td><td>F</td><td>3100</td></tr>\n",
       "\t<tr><td>28</td><td>F</td><td>3800</td></tr>\n",
       "\t<tr><td>21</td><td>F</td><td>2800</td></tr>\n",
       "</tbody>\n",
       "</table>\n"
      ],
      "text/latex": [
       "A spec\\_tbl\\_df: 4 × 3\n",
       "\\begin{tabular}{lll}\n",
       " X1 & X2 & X3\\\\\n",
       " <int> & <chr> & <int>\\\\\n",
       "\\hline\n",
       "\t 24 & M & 2000\\\\\n",
       "\t 35 & F & 3100\\\\\n",
       "\t 28 & F & 3800\\\\\n",
       "\t 21 & F & 2800\\\\\n",
       "\\end{tabular}\n"
      ],
      "text/markdown": [
       "\n",
       "A spec_tbl_df: 4 × 3\n",
       "\n",
       "| X1 &lt;int&gt; | X2 &lt;chr&gt; | X3 &lt;int&gt; |\n",
       "|---|---|---|\n",
       "| 24 | M | 2000 |\n",
       "| 35 | F | 3100 |\n",
       "| 28 | F | 3800 |\n",
       "| 21 | F | 2800 |\n",
       "\n"
      ],
      "text/plain": [
       "  X1 X2 X3  \n",
       "1 24 M  2000\n",
       "2 35 F  3100\n",
       "3 28 F  3800\n",
       "4 21 F  2800"
      ]
     },
     "metadata": {},
     "output_type": "display_data"
    }
   ],
   "source": [
    "read_csv(\"D://알기초프로그래밍/ch3_data/data5_2.txt\",\n",
    "         col_types=\"ici\",col_names=FALSE)"
   ]
  },
  {
   "cell_type": "code",
   "execution_count": 17,
   "metadata": {},
   "outputs": [
    {
     "data": {
      "text/html": [
       "<table>\n",
       "<caption>A spec_tbl_df: 4 × 3</caption>\n",
       "<thead>\n",
       "\t<tr><th scope=col>age</th><th scope=col>gender</th><th scope=col>income</th></tr>\n",
       "\t<tr><th scope=col>&lt;int&gt;</th><th scope=col>&lt;chr&gt;</th><th scope=col>&lt;int&gt;</th></tr>\n",
       "</thead>\n",
       "<tbody>\n",
       "\t<tr><td>24</td><td>M</td><td>2000</td></tr>\n",
       "\t<tr><td>35</td><td>F</td><td>3100</td></tr>\n",
       "\t<tr><td>28</td><td>F</td><td>3800</td></tr>\n",
       "\t<tr><td>21</td><td>F</td><td>2800</td></tr>\n",
       "</tbody>\n",
       "</table>\n"
      ],
      "text/latex": [
       "A spec\\_tbl\\_df: 4 × 3\n",
       "\\begin{tabular}{lll}\n",
       " age & gender & income\\\\\n",
       " <int> & <chr> & <int>\\\\\n",
       "\\hline\n",
       "\t 24 & M & 2000\\\\\n",
       "\t 35 & F & 3100\\\\\n",
       "\t 28 & F & 3800\\\\\n",
       "\t 21 & F & 2800\\\\\n",
       "\\end{tabular}\n"
      ],
      "text/markdown": [
       "\n",
       "A spec_tbl_df: 4 × 3\n",
       "\n",
       "| age &lt;int&gt; | gender &lt;chr&gt; | income &lt;int&gt; |\n",
       "|---|---|---|\n",
       "| 24 | M | 2000 |\n",
       "| 35 | F | 3100 |\n",
       "| 28 | F | 3800 |\n",
       "| 21 | F | 2800 |\n",
       "\n"
      ],
      "text/plain": [
       "  age gender income\n",
       "1 24  M      2000  \n",
       "2 35  F      3100  \n",
       "3 28  F      3800  \n",
       "4 21  F      2800  "
      ]
     },
     "metadata": {},
     "output_type": "display_data"
    }
   ],
   "source": [
    "read_csv(\"D://알기초프로그래밍/ch3_data/data5_2.txt\",\n",
    "         col_types=\"ici\",col_names=c(\"age\",\"gender\",\"income\"))"
   ]
  },
  {
   "cell_type": "markdown",
   "metadata": {},
   "source": [
    "### 자료 파일에 주석이 있는 경우 : 옵션 comment\n",
    "+ 결측값 입력 : NA\n",
    "+ 콤마로 구분된 경우 : 빈 칸도 결측값으로 인식"
   ]
  },
  {
   "cell_type": "code",
   "execution_count": 23,
   "metadata": {},
   "outputs": [
    {
     "data": {
      "text/html": [
       "<table>\n",
       "<caption>A spec_tbl_df: 4 × 3</caption>\n",
       "<thead>\n",
       "\t<tr><th scope=col>age</th><th scope=col>gender</th><th scope=col>income</th></tr>\n",
       "\t<tr><th scope=col>&lt;int&gt;</th><th scope=col>&lt;chr&gt;</th><th scope=col>&lt;int&gt;</th></tr>\n",
       "</thead>\n",
       "<tbody>\n",
       "\t<tr><td>24</td><td>NA</td><td>2000</td></tr>\n",
       "\t<tr><td>35</td><td>F </td><td>3100</td></tr>\n",
       "\t<tr><td>NA</td><td>F </td><td>3800</td></tr>\n",
       "\t<tr><td>21</td><td>F </td><td>2800</td></tr>\n",
       "</tbody>\n",
       "</table>\n"
      ],
      "text/latex": [
       "A spec\\_tbl\\_df: 4 × 3\n",
       "\\begin{tabular}{lll}\n",
       " age & gender & income\\\\\n",
       " <int> & <chr> & <int>\\\\\n",
       "\\hline\n",
       "\t 24 & NA & 2000\\\\\n",
       "\t 35 & F  & 3100\\\\\n",
       "\t NA & F  & 3800\\\\\n",
       "\t 21 & F  & 2800\\\\\n",
       "\\end{tabular}\n"
      ],
      "text/markdown": [
       "\n",
       "A spec_tbl_df: 4 × 3\n",
       "\n",
       "| age &lt;int&gt; | gender &lt;chr&gt; | income &lt;int&gt; |\n",
       "|---|---|---|\n",
       "| 24 | NA | 2000 |\n",
       "| 35 | F  | 3100 |\n",
       "| NA | F  | 3800 |\n",
       "| 21 | F  | 2800 |\n",
       "\n"
      ],
      "text/plain": [
       "  age gender income\n",
       "1 24  NA     2000  \n",
       "2 35  F      3100  \n",
       "3 NA  F      3800  \n",
       "4 21  F      2800  "
      ]
     },
     "metadata": {},
     "output_type": "display_data"
    }
   ],
   "source": [
    "read_csv(\"D://알기초프로그래밍/ch3_data/data5_3.txt\",\n",
    "         col_types=\"ici\",comment = \"#\")"
   ]
  },
  {
   "cell_type": "code",
   "execution_count": null,
   "metadata": {},
   "outputs": [],
   "source": []
  }
 ],
 "metadata": {
  "kernelspec": {
   "display_name": "R",
   "language": "R",
   "name": "ir"
  },
  "language_info": {
   "codemirror_mode": "r",
   "file_extension": ".r",
   "mimetype": "text/x-r-source",
   "name": "R",
   "pygments_lexer": "r",
   "version": "3.5.2"
  }
 },
 "nbformat": 4,
 "nbformat_minor": 2
}
