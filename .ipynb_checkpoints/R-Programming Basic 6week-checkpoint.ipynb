{
 "cells": [
  {
   "cell_type": "markdown",
   "metadata": {},
   "source": [
    "### read.csv\n",
    "+ 자료 파일에 주석이 있는 경우 : 옵션 comment에 주석 기호 지정"
   ]
  },
  {
   "cell_type": "code",
   "execution_count": 1,
   "metadata": {},
   "outputs": [
    {
     "name": "stderr",
     "output_type": "stream",
     "text": [
      "Warning message:\n",
      "\"package 'readr' was built under R version 3.5.3\"\n"
     ]
    },
    {
     "data": {
      "text/html": [
       "<table>\n",
       "<caption>A spec_tbl_df: 4 × 3</caption>\n",
       "<thead>\n",
       "\t<tr><th scope=col>age</th><th scope=col>gender</th><th scope=col>income</th></tr>\n",
       "\t<tr><th scope=col>&lt;int&gt;</th><th scope=col>&lt;chr&gt;</th><th scope=col>&lt;int&gt;</th></tr>\n",
       "</thead>\n",
       "<tbody>\n",
       "\t<tr><td>24</td><td>NA</td><td>2000</td></tr>\n",
       "\t<tr><td>35</td><td>F </td><td>3100</td></tr>\n",
       "\t<tr><td>NA</td><td>F </td><td>3800</td></tr>\n",
       "\t<tr><td>21</td><td>F </td><td>2800</td></tr>\n",
       "</tbody>\n",
       "</table>\n"
      ],
      "text/latex": [
       "A spec\\_tbl\\_df: 4 × 3\n",
       "\\begin{tabular}{lll}\n",
       " age & gender & income\\\\\n",
       " <int> & <chr> & <int>\\\\\n",
       "\\hline\n",
       "\t 24 & NA & 2000\\\\\n",
       "\t 35 & F  & 3100\\\\\n",
       "\t NA & F  & 3800\\\\\n",
       "\t 21 & F  & 2800\\\\\n",
       "\\end{tabular}\n"
      ],
      "text/markdown": [
       "\n",
       "A spec_tbl_df: 4 × 3\n",
       "\n",
       "| age &lt;int&gt; | gender &lt;chr&gt; | income &lt;int&gt; |\n",
       "|---|---|---|\n",
       "| 24 | NA | 2000 |\n",
       "| 35 | F  | 3100 |\n",
       "| NA | F  | 3800 |\n",
       "| 21 | F  | 2800 |\n",
       "\n"
      ],
      "text/plain": [
       "  age gender income\n",
       "1 24  NA     2000  \n",
       "2 35  F      3100  \n",
       "3 NA  F      3800  \n",
       "4 21  F      2800  "
      ]
     },
     "metadata": {},
     "output_type": "display_data"
    }
   ],
   "source": [
    "library(readr)\n",
    "read_csv(\"D://알기초프로그래밍/ch3_data/data5_3.txt\",\n",
    "         col_types=\"ici\",skip=1)"
   ]
  },
  {
   "cell_type": "markdown",
   "metadata": {},
   "source": [
    "+ 결측값이 NA가 아닌 다른 기호로 입력된 경우 : 옵션 na"
   ]
  },
  {
   "cell_type": "code",
   "execution_count": 3,
   "metadata": {},
   "outputs": [
    {
     "data": {
      "text/html": [
       "<table>\n",
       "<caption>A spec_tbl_df: 4 × 3</caption>\n",
       "<thead>\n",
       "\t<tr><th scope=col>X1</th><th scope=col>X2</th><th scope=col>X3</th></tr>\n",
       "\t<tr><th scope=col>&lt;int&gt;</th><th scope=col>&lt;chr&gt;</th><th scope=col>&lt;int&gt;</th></tr>\n",
       "</thead>\n",
       "<tbody>\n",
       "\t<tr><td>24</td><td>M </td><td>2000</td></tr>\n",
       "\t<tr><td>35</td><td>NA</td><td>3100</td></tr>\n",
       "\t<tr><td>NA</td><td>F </td><td>3800</td></tr>\n",
       "\t<tr><td>21</td><td>F </td><td>2800</td></tr>\n",
       "</tbody>\n",
       "</table>\n"
      ],
      "text/latex": [
       "A spec\\_tbl\\_df: 4 × 3\n",
       "\\begin{tabular}{lll}\n",
       " X1 & X2 & X3\\\\\n",
       " <int> & <chr> & <int>\\\\\n",
       "\\hline\n",
       "\t 24 & M  & 2000\\\\\n",
       "\t 35 & NA & 3100\\\\\n",
       "\t NA & F  & 3800\\\\\n",
       "\t 21 & F  & 2800\\\\\n",
       "\\end{tabular}\n"
      ],
      "text/markdown": [
       "\n",
       "A spec_tbl_df: 4 × 3\n",
       "\n",
       "| X1 &lt;int&gt; | X2 &lt;chr&gt; | X3 &lt;int&gt; |\n",
       "|---|---|---|\n",
       "| 24 | M  | 2000 |\n",
       "| 35 | NA | 3100 |\n",
       "| NA | F  | 3800 |\n",
       "| 21 | F  | 2800 |\n",
       "\n"
      ],
      "text/plain": [
       "  X1 X2 X3  \n",
       "1 24 M  2000\n",
       "2 35 NA 3100\n",
       "3 NA F  3800\n",
       "4 21 F  2800"
      ]
     },
     "metadata": {},
     "output_type": "display_data"
    }
   ],
   "source": [
    "read_csv(\"D://알기초프로그래밍/ch3_data/data5_4.txt\",\n",
    "         col_types=\"ici\",col_names=FALSE, na=\".\")"
   ]
  },
  {
   "cell_type": "markdown",
   "metadata": {},
   "source": [
    "+ 결측값이 두개 이상의 다른 기호로 입력된 경우"
   ]
  },
  {
   "cell_type": "code",
   "execution_count": 6,
   "metadata": {
    "scrolled": true
   },
   "outputs": [
    {
     "data": {
      "text/html": [
       "<table>\n",
       "<caption>A spec_tbl_df: 4 × 3</caption>\n",
       "<thead>\n",
       "\t<tr><th scope=col>X1</th><th scope=col>X2</th><th scope=col>X3</th></tr>\n",
       "\t<tr><th scope=col>&lt;int&gt;</th><th scope=col>&lt;chr&gt;</th><th scope=col>&lt;int&gt;</th></tr>\n",
       "</thead>\n",
       "<tbody>\n",
       "\t<tr><td>24</td><td>M </td><td>2000</td></tr>\n",
       "\t<tr><td>35</td><td>NA</td><td>3100</td></tr>\n",
       "\t<tr><td>NA</td><td>F </td><td>3800</td></tr>\n",
       "\t<tr><td>21</td><td>F </td><td>2800</td></tr>\n",
       "</tbody>\n",
       "</table>\n"
      ],
      "text/latex": [
       "A spec\\_tbl\\_df: 4 × 3\n",
       "\\begin{tabular}{lll}\n",
       " X1 & X2 & X3\\\\\n",
       " <int> & <chr> & <int>\\\\\n",
       "\\hline\n",
       "\t 24 & M  & 2000\\\\\n",
       "\t 35 & NA & 3100\\\\\n",
       "\t NA & F  & 3800\\\\\n",
       "\t 21 & F  & 2800\\\\\n",
       "\\end{tabular}\n"
      ],
      "text/markdown": [
       "\n",
       "A spec_tbl_df: 4 × 3\n",
       "\n",
       "| X1 &lt;int&gt; | X2 &lt;chr&gt; | X3 &lt;int&gt; |\n",
       "|---|---|---|\n",
       "| 24 | M  | 2000 |\n",
       "| 35 | NA | 3100 |\n",
       "| NA | F  | 3800 |\n",
       "| 21 | F  | 2800 |\n",
       "\n"
      ],
      "text/plain": [
       "  X1 X2 X3  \n",
       "1 24 M  2000\n",
       "2 35 NA 3100\n",
       "3 NA F  3800\n",
       "4 21 F  2800"
      ]
     },
     "metadata": {},
     "output_type": "display_data"
    }
   ],
   "source": [
    "read_csv(\"D://알기초프로그래밍/ch3_data/data5_5.txt\",\n",
    "         col_types=\"ici\",col_names=FALSE, na=c(\".\",\"?\"))"
   ]
  },
  {
   "cell_type": "markdown",
   "metadata": {},
   "source": [
    "## Excel 파일 불러오기\n",
    "### Excel 스프레드시트\n",
    "+ 데이터의 생성 및 가공 작업에 많이 사용됨\n",
    "+ 단순 데이터만이 있는 것이 아니라 공식과 매크로 등 다양한 속성의 개체들이 공존\n",
    "\n",
    "### 불러오는 방법\n",
    "+ Excel 파일 직접 불러오기\n",
    "+ read.xlsx()\n",
    "+ read_excel()"
   ]
  },
  {
   "cell_type": "code",
   "execution_count": 7,
   "metadata": {},
   "outputs": [
    {
     "name": "stderr",
     "output_type": "stream",
     "text": [
      "Warning message:\n",
      "\"package 'xlsx' was built under R version 3.5.3\"\n"
     ]
    },
    {
     "data": {
      "text/html": [
       "<table>\n",
       "<caption>A data.frame: 5 × 3</caption>\n",
       "<thead>\n",
       "\t<tr><th scope=col>age</th><th scope=col>gender</th><th scope=col>income</th></tr>\n",
       "\t<tr><th scope=col>&lt;dbl&gt;</th><th scope=col>&lt;fct&gt;</th><th scope=col>&lt;dbl&gt;</th></tr>\n",
       "</thead>\n",
       "<tbody>\n",
       "\t<tr><td>24</td><td>M</td><td>2000</td></tr>\n",
       "\t<tr><td>35</td><td>F</td><td>3100</td></tr>\n",
       "\t<tr><td>28</td><td>F</td><td>3800</td></tr>\n",
       "\t<tr><td>21</td><td>F</td><td>2800</td></tr>\n",
       "\t<tr><td>31</td><td>M</td><td>3500</td></tr>\n",
       "</tbody>\n",
       "</table>\n"
      ],
      "text/latex": [
       "A data.frame: 5 × 3\n",
       "\\begin{tabular}{lll}\n",
       " age & gender & income\\\\\n",
       " <dbl> & <fct> & <dbl>\\\\\n",
       "\\hline\n",
       "\t 24 & M & 2000\\\\\n",
       "\t 35 & F & 3100\\\\\n",
       "\t 28 & F & 3800\\\\\n",
       "\t 21 & F & 2800\\\\\n",
       "\t 31 & M & 3500\\\\\n",
       "\\end{tabular}\n"
      ],
      "text/markdown": [
       "\n",
       "A data.frame: 5 × 3\n",
       "\n",
       "| age &lt;dbl&gt; | gender &lt;fct&gt; | income &lt;dbl&gt; |\n",
       "|---|---|---|\n",
       "| 24 | M | 2000 |\n",
       "| 35 | F | 3100 |\n",
       "| 28 | F | 3800 |\n",
       "| 21 | F | 2800 |\n",
       "| 31 | M | 3500 |\n",
       "\n"
      ],
      "text/plain": [
       "  age gender income\n",
       "1 24  M      2000  \n",
       "2 35  F      3100  \n",
       "3 28  F      3800  \n",
       "4 21  F      2800  \n",
       "5 31  M      3500  "
      ]
     },
     "metadata": {},
     "output_type": "display_data"
    },
    {
     "name": "stderr",
     "output_type": "stream",
     "text": [
      "Warning message:\n",
      "\"package 'readxl' was built under R version 3.5.3\"\n"
     ]
    },
    {
     "data": {
      "text/html": [
       "<table>\n",
       "<caption>A tibble: 5 × 3</caption>\n",
       "<thead>\n",
       "\t<tr><th scope=col>age</th><th scope=col>gender</th><th scope=col>income</th></tr>\n",
       "\t<tr><th scope=col>&lt;dbl&gt;</th><th scope=col>&lt;chr&gt;</th><th scope=col>&lt;dbl&gt;</th></tr>\n",
       "</thead>\n",
       "<tbody>\n",
       "\t<tr><td>24</td><td>M</td><td>2000</td></tr>\n",
       "\t<tr><td>35</td><td>F</td><td>3100</td></tr>\n",
       "\t<tr><td>28</td><td>F</td><td>3800</td></tr>\n",
       "\t<tr><td>21</td><td>F</td><td>2800</td></tr>\n",
       "\t<tr><td>31</td><td>M</td><td>3500</td></tr>\n",
       "</tbody>\n",
       "</table>\n"
      ],
      "text/latex": [
       "A tibble: 5 × 3\n",
       "\\begin{tabular}{lll}\n",
       " age & gender & income\\\\\n",
       " <dbl> & <chr> & <dbl>\\\\\n",
       "\\hline\n",
       "\t 24 & M & 2000\\\\\n",
       "\t 35 & F & 3100\\\\\n",
       "\t 28 & F & 3800\\\\\n",
       "\t 21 & F & 2800\\\\\n",
       "\t 31 & M & 3500\\\\\n",
       "\\end{tabular}\n"
      ],
      "text/markdown": [
       "\n",
       "A tibble: 5 × 3\n",
       "\n",
       "| age &lt;dbl&gt; | gender &lt;chr&gt; | income &lt;dbl&gt; |\n",
       "|---|---|---|\n",
       "| 24 | M | 2000 |\n",
       "| 35 | F | 3100 |\n",
       "| 28 | F | 3800 |\n",
       "| 21 | F | 2800 |\n",
       "| 31 | M | 3500 |\n",
       "\n"
      ],
      "text/plain": [
       "  age gender income\n",
       "1 24  M      2000  \n",
       "2 35  F      3100  \n",
       "3 28  F      3800  \n",
       "4 21  F      2800  \n",
       "5 31  M      3500  "
      ]
     },
     "metadata": {},
     "output_type": "display_data"
    }
   ],
   "source": [
    "library(xlsx)\n",
    "read.xlsx(\"D://알기초프로그래밍/ch3_data/data6.xlsx\", sheetIndex=1)\n",
    "\n",
    "library(readxl)\n",
    "df3 <- read_excel(\"D://알기초프로그래밍/ch3_data/data6.xlsx\")\n",
    "df3"
   ]
  },
  {
   "cell_type": "markdown",
   "metadata": {},
   "source": [
    "+ 일부분 불러오기"
   ]
  },
  {
   "cell_type": "code",
   "execution_count": 9,
   "metadata": {},
   "outputs": [
    {
     "data": {
      "text/html": [
       "<table>\n",
       "<caption>A tibble: 4 × 2</caption>\n",
       "<thead>\n",
       "\t<tr><th scope=col>age</th><th scope=col>gender</th></tr>\n",
       "\t<tr><th scope=col>&lt;dbl&gt;</th><th scope=col>&lt;chr&gt;</th></tr>\n",
       "</thead>\n",
       "<tbody>\n",
       "\t<tr><td>24</td><td>M</td></tr>\n",
       "\t<tr><td>35</td><td>F</td></tr>\n",
       "\t<tr><td>28</td><td>F</td></tr>\n",
       "\t<tr><td>21</td><td>F</td></tr>\n",
       "</tbody>\n",
       "</table>\n"
      ],
      "text/latex": [
       "A tibble: 4 × 2\n",
       "\\begin{tabular}{ll}\n",
       " age & gender\\\\\n",
       " <dbl> & <chr>\\\\\n",
       "\\hline\n",
       "\t 24 & M\\\\\n",
       "\t 35 & F\\\\\n",
       "\t 28 & F\\\\\n",
       "\t 21 & F\\\\\n",
       "\\end{tabular}\n"
      ],
      "text/markdown": [
       "\n",
       "A tibble: 4 × 2\n",
       "\n",
       "| age &lt;dbl&gt; | gender &lt;chr&gt; |\n",
       "|---|---|\n",
       "| 24 | M |\n",
       "| 35 | F |\n",
       "| 28 | F |\n",
       "| 21 | F |\n",
       "\n"
      ],
      "text/plain": [
       "  age gender\n",
       "1 24  M     \n",
       "2 35  F     \n",
       "3 28  F     \n",
       "4 21  F     "
      ]
     },
     "metadata": {},
     "output_type": "display_data"
    }
   ],
   "source": [
    "read_excel(\"D://알기초프로그래밍/ch3_data/data6.xlsx\", range=\"A1:B5\")"
   ]
  },
  {
   "cell_type": "markdown",
   "metadata": {},
   "source": [
    "### CSV파일로 전환하여 불러오기\n",
    "+ 다른이름으로 저장 > 다른 형식 선택후 CSV 파일 형식 선택하여 저장\n",
    "+ CSV형식으로 저장된 데이터 파일을 함수 read.csv()함수로 불러온다"
   ]
  },
  {
   "cell_type": "code",
   "execution_count": 10,
   "metadata": {},
   "outputs": [
    {
     "data": {
      "text/html": [
       "<table>\n",
       "<caption>A spec_tbl_df: 5 × 3</caption>\n",
       "<thead>\n",
       "\t<tr><th scope=col>age</th><th scope=col>gender</th><th scope=col>income</th></tr>\n",
       "\t<tr><th scope=col>&lt;int&gt;</th><th scope=col>&lt;chr&gt;</th><th scope=col>&lt;int&gt;</th></tr>\n",
       "</thead>\n",
       "<tbody>\n",
       "\t<tr><td>24</td><td>M</td><td>2000</td></tr>\n",
       "\t<tr><td>35</td><td>F</td><td>3100</td></tr>\n",
       "\t<tr><td>28</td><td>F</td><td>3800</td></tr>\n",
       "\t<tr><td>21</td><td>F</td><td>3500</td></tr>\n",
       "\t<tr><td>31</td><td>M</td><td>3500</td></tr>\n",
       "</tbody>\n",
       "</table>\n"
      ],
      "text/latex": [
       "A spec\\_tbl\\_df: 5 × 3\n",
       "\\begin{tabular}{lll}\n",
       " age & gender & income\\\\\n",
       " <int> & <chr> & <int>\\\\\n",
       "\\hline\n",
       "\t 24 & M & 2000\\\\\n",
       "\t 35 & F & 3100\\\\\n",
       "\t 28 & F & 3800\\\\\n",
       "\t 21 & F & 3500\\\\\n",
       "\t 31 & M & 3500\\\\\n",
       "\\end{tabular}\n"
      ],
      "text/markdown": [
       "\n",
       "A spec_tbl_df: 5 × 3\n",
       "\n",
       "| age &lt;int&gt; | gender &lt;chr&gt; | income &lt;int&gt; |\n",
       "|---|---|---|\n",
       "| 24 | M | 2000 |\n",
       "| 35 | F | 3100 |\n",
       "| 28 | F | 3800 |\n",
       "| 21 | F | 3500 |\n",
       "| 31 | M | 3500 |\n",
       "\n"
      ],
      "text/plain": [
       "  age gender income\n",
       "1 24  M      2000  \n",
       "2 35  F      3100  \n",
       "3 28  F      3800  \n",
       "4 21  F      3500  \n",
       "5 31  M      3500  "
      ]
     },
     "metadata": {},
     "output_type": "display_data"
    }
   ],
   "source": [
    "read_csv(\"D://알기초프로그래밍/ch3_data/data6.csv\", col_types=\"ici\")"
   ]
  },
  {
   "cell_type": "markdown",
   "metadata": {},
   "source": [
    "## SAS파일 불러오기\n",
    "### SAS\n",
    "+ 범용 통계 소프트웨어. 수많은 사용자 보유\n",
    "+ SAS 전용 데이터 파일을 R로 불러오는 것도 중요한 작업\n",
    "+ 패키지 haven의 read_sas() 이용"
   ]
  },
  {
   "cell_type": "markdown",
   "metadata": {},
   "source": [
    "## 웹에서 데이터 불러오기\n",
    "### 웹에 있는 엄청난 양의 데이터\n",
    "+ 직접 R로 불러올 수 있다면 상당히 편리할 것임\n",
    "\n",
    "### 두가지 형태의 데이터\n",
    "+ 웹 서버에 저장된 데이터 파일\n",
    "+ 함수 read.table(), read.csv()로 불러올 수 있음\n",
    "\n",
    "\n",
    "+ HTML 테이블\n",
    "+ 패키지 rvest, 함수 read_html(), html_nodes(), html_table()"
   ]
  },
  {
   "cell_type": "markdown",
   "metadata": {},
   "source": [
    "### 웹서버에 저장된 데이터 파일 불러오기"
   ]
  },
  {
   "cell_type": "code",
   "execution_count": 14,
   "metadata": {
    "scrolled": true
   },
   "outputs": [
    {
     "data": {
      "text/html": [
       "<table>\n",
       "<caption>A spec_tbl_df: 150 × 5</caption>\n",
       "<thead>\n",
       "\t<tr><th scope=col>S.length</th><th scope=col>S.width</th><th scope=col>P.length</th><th scope=col>P.width</th><th scope=col>Species</th></tr>\n",
       "\t<tr><th scope=col>&lt;dbl&gt;</th><th scope=col>&lt;dbl&gt;</th><th scope=col>&lt;dbl&gt;</th><th scope=col>&lt;dbl&gt;</th><th scope=col>&lt;chr&gt;</th></tr>\n",
       "</thead>\n",
       "<tbody>\n",
       "\t<tr><td>5.1</td><td>3.5</td><td>1.4</td><td>0.2</td><td>Iris-setosa</td></tr>\n",
       "\t<tr><td>4.9</td><td>3.0</td><td>1.4</td><td>0.2</td><td>Iris-setosa</td></tr>\n",
       "\t<tr><td>4.7</td><td>3.2</td><td>1.3</td><td>0.2</td><td>Iris-setosa</td></tr>\n",
       "\t<tr><td>4.6</td><td>3.1</td><td>1.5</td><td>0.2</td><td>Iris-setosa</td></tr>\n",
       "\t<tr><td>5.0</td><td>3.6</td><td>1.4</td><td>0.2</td><td>Iris-setosa</td></tr>\n",
       "\t<tr><td>5.4</td><td>3.9</td><td>1.7</td><td>0.4</td><td>Iris-setosa</td></tr>\n",
       "\t<tr><td>4.6</td><td>3.4</td><td>1.4</td><td>0.3</td><td>Iris-setosa</td></tr>\n",
       "\t<tr><td>5.0</td><td>3.4</td><td>1.5</td><td>0.2</td><td>Iris-setosa</td></tr>\n",
       "\t<tr><td>4.4</td><td>2.9</td><td>1.4</td><td>0.2</td><td>Iris-setosa</td></tr>\n",
       "\t<tr><td>4.9</td><td>3.1</td><td>1.5</td><td>0.1</td><td>Iris-setosa</td></tr>\n",
       "\t<tr><td>5.4</td><td>3.7</td><td>1.5</td><td>0.2</td><td>Iris-setosa</td></tr>\n",
       "\t<tr><td>4.8</td><td>3.4</td><td>1.6</td><td>0.2</td><td>Iris-setosa</td></tr>\n",
       "\t<tr><td>4.8</td><td>3.0</td><td>1.4</td><td>0.1</td><td>Iris-setosa</td></tr>\n",
       "\t<tr><td>4.3</td><td>3.0</td><td>1.1</td><td>0.1</td><td>Iris-setosa</td></tr>\n",
       "\t<tr><td>5.8</td><td>4.0</td><td>1.2</td><td>0.2</td><td>Iris-setosa</td></tr>\n",
       "\t<tr><td>5.7</td><td>4.4</td><td>1.5</td><td>0.4</td><td>Iris-setosa</td></tr>\n",
       "\t<tr><td>5.4</td><td>3.9</td><td>1.3</td><td>0.4</td><td>Iris-setosa</td></tr>\n",
       "\t<tr><td>5.1</td><td>3.5</td><td>1.4</td><td>0.3</td><td>Iris-setosa</td></tr>\n",
       "\t<tr><td>5.7</td><td>3.8</td><td>1.7</td><td>0.3</td><td>Iris-setosa</td></tr>\n",
       "\t<tr><td>5.1</td><td>3.8</td><td>1.5</td><td>0.3</td><td>Iris-setosa</td></tr>\n",
       "\t<tr><td>5.4</td><td>3.4</td><td>1.7</td><td>0.2</td><td>Iris-setosa</td></tr>\n",
       "\t<tr><td>5.1</td><td>3.7</td><td>1.5</td><td>0.4</td><td>Iris-setosa</td></tr>\n",
       "\t<tr><td>4.6</td><td>3.6</td><td>1.0</td><td>0.2</td><td>Iris-setosa</td></tr>\n",
       "\t<tr><td>5.1</td><td>3.3</td><td>1.7</td><td>0.5</td><td>Iris-setosa</td></tr>\n",
       "\t<tr><td>4.8</td><td>3.4</td><td>1.9</td><td>0.2</td><td>Iris-setosa</td></tr>\n",
       "\t<tr><td>5.0</td><td>3.0</td><td>1.6</td><td>0.2</td><td>Iris-setosa</td></tr>\n",
       "\t<tr><td>5.0</td><td>3.4</td><td>1.6</td><td>0.4</td><td>Iris-setosa</td></tr>\n",
       "\t<tr><td>5.2</td><td>3.5</td><td>1.5</td><td>0.2</td><td>Iris-setosa</td></tr>\n",
       "\t<tr><td>5.2</td><td>3.4</td><td>1.4</td><td>0.2</td><td>Iris-setosa</td></tr>\n",
       "\t<tr><td>4.7</td><td>3.2</td><td>1.6</td><td>0.2</td><td>Iris-setosa</td></tr>\n",
       "\t<tr><td>...</td><td>...</td><td>...</td><td>...</td><td>...</td></tr>\n",
       "\t<tr><td>6.9</td><td>3.2</td><td>5.7</td><td>2.3</td><td>Iris-virginica</td></tr>\n",
       "\t<tr><td>5.6</td><td>2.8</td><td>4.9</td><td>2.0</td><td>Iris-virginica</td></tr>\n",
       "\t<tr><td>7.7</td><td>2.8</td><td>6.7</td><td>2.0</td><td>Iris-virginica</td></tr>\n",
       "\t<tr><td>6.3</td><td>2.7</td><td>4.9</td><td>1.8</td><td>Iris-virginica</td></tr>\n",
       "\t<tr><td>6.7</td><td>3.3</td><td>5.7</td><td>2.1</td><td>Iris-virginica</td></tr>\n",
       "\t<tr><td>7.2</td><td>3.2</td><td>6.0</td><td>1.8</td><td>Iris-virginica</td></tr>\n",
       "\t<tr><td>6.2</td><td>2.8</td><td>4.8</td><td>1.8</td><td>Iris-virginica</td></tr>\n",
       "\t<tr><td>6.1</td><td>3.0</td><td>4.9</td><td>1.8</td><td>Iris-virginica</td></tr>\n",
       "\t<tr><td>6.4</td><td>2.8</td><td>5.6</td><td>2.1</td><td>Iris-virginica</td></tr>\n",
       "\t<tr><td>7.2</td><td>3.0</td><td>5.8</td><td>1.6</td><td>Iris-virginica</td></tr>\n",
       "\t<tr><td>7.4</td><td>2.8</td><td>6.1</td><td>1.9</td><td>Iris-virginica</td></tr>\n",
       "\t<tr><td>7.9</td><td>3.8</td><td>6.4</td><td>2.0</td><td>Iris-virginica</td></tr>\n",
       "\t<tr><td>6.4</td><td>2.8</td><td>5.6</td><td>2.2</td><td>Iris-virginica</td></tr>\n",
       "\t<tr><td>6.3</td><td>2.8</td><td>5.1</td><td>1.5</td><td>Iris-virginica</td></tr>\n",
       "\t<tr><td>6.1</td><td>2.6</td><td>5.6</td><td>1.4</td><td>Iris-virginica</td></tr>\n",
       "\t<tr><td>7.7</td><td>3.0</td><td>6.1</td><td>2.3</td><td>Iris-virginica</td></tr>\n",
       "\t<tr><td>6.3</td><td>3.4</td><td>5.6</td><td>2.4</td><td>Iris-virginica</td></tr>\n",
       "\t<tr><td>6.4</td><td>3.1</td><td>5.5</td><td>1.8</td><td>Iris-virginica</td></tr>\n",
       "\t<tr><td>6.0</td><td>3.0</td><td>4.8</td><td>1.8</td><td>Iris-virginica</td></tr>\n",
       "\t<tr><td>6.9</td><td>3.1</td><td>5.4</td><td>2.1</td><td>Iris-virginica</td></tr>\n",
       "\t<tr><td>6.7</td><td>3.1</td><td>5.6</td><td>2.4</td><td>Iris-virginica</td></tr>\n",
       "\t<tr><td>6.9</td><td>3.1</td><td>5.1</td><td>2.3</td><td>Iris-virginica</td></tr>\n",
       "\t<tr><td>5.8</td><td>2.7</td><td>5.1</td><td>1.9</td><td>Iris-virginica</td></tr>\n",
       "\t<tr><td>6.8</td><td>3.2</td><td>5.9</td><td>2.3</td><td>Iris-virginica</td></tr>\n",
       "\t<tr><td>6.7</td><td>3.3</td><td>5.7</td><td>2.5</td><td>Iris-virginica</td></tr>\n",
       "\t<tr><td>6.7</td><td>3.0</td><td>5.2</td><td>2.3</td><td>Iris-virginica</td></tr>\n",
       "\t<tr><td>6.3</td><td>2.5</td><td>5.0</td><td>1.9</td><td>Iris-virginica</td></tr>\n",
       "\t<tr><td>6.5</td><td>3.0</td><td>5.2</td><td>2.0</td><td>Iris-virginica</td></tr>\n",
       "\t<tr><td>6.2</td><td>3.4</td><td>5.4</td><td>2.3</td><td>Iris-virginica</td></tr>\n",
       "\t<tr><td>5.9</td><td>3.0</td><td>5.1</td><td>1.8</td><td>Iris-virginica</td></tr>\n",
       "</tbody>\n",
       "</table>\n"
      ],
      "text/latex": [
       "A spec\\_tbl\\_df: 150 × 5\n",
       "\\begin{tabular}{lllll}\n",
       " S.length & S.width & P.length & P.width & Species\\\\\n",
       " <dbl> & <dbl> & <dbl> & <dbl> & <chr>\\\\\n",
       "\\hline\n",
       "\t 5.1 & 3.5 & 1.4 & 0.2 & Iris-setosa\\\\\n",
       "\t 4.9 & 3.0 & 1.4 & 0.2 & Iris-setosa\\\\\n",
       "\t 4.7 & 3.2 & 1.3 & 0.2 & Iris-setosa\\\\\n",
       "\t 4.6 & 3.1 & 1.5 & 0.2 & Iris-setosa\\\\\n",
       "\t 5.0 & 3.6 & 1.4 & 0.2 & Iris-setosa\\\\\n",
       "\t 5.4 & 3.9 & 1.7 & 0.4 & Iris-setosa\\\\\n",
       "\t 4.6 & 3.4 & 1.4 & 0.3 & Iris-setosa\\\\\n",
       "\t 5.0 & 3.4 & 1.5 & 0.2 & Iris-setosa\\\\\n",
       "\t 4.4 & 2.9 & 1.4 & 0.2 & Iris-setosa\\\\\n",
       "\t 4.9 & 3.1 & 1.5 & 0.1 & Iris-setosa\\\\\n",
       "\t 5.4 & 3.7 & 1.5 & 0.2 & Iris-setosa\\\\\n",
       "\t 4.8 & 3.4 & 1.6 & 0.2 & Iris-setosa\\\\\n",
       "\t 4.8 & 3.0 & 1.4 & 0.1 & Iris-setosa\\\\\n",
       "\t 4.3 & 3.0 & 1.1 & 0.1 & Iris-setosa\\\\\n",
       "\t 5.8 & 4.0 & 1.2 & 0.2 & Iris-setosa\\\\\n",
       "\t 5.7 & 4.4 & 1.5 & 0.4 & Iris-setosa\\\\\n",
       "\t 5.4 & 3.9 & 1.3 & 0.4 & Iris-setosa\\\\\n",
       "\t 5.1 & 3.5 & 1.4 & 0.3 & Iris-setosa\\\\\n",
       "\t 5.7 & 3.8 & 1.7 & 0.3 & Iris-setosa\\\\\n",
       "\t 5.1 & 3.8 & 1.5 & 0.3 & Iris-setosa\\\\\n",
       "\t 5.4 & 3.4 & 1.7 & 0.2 & Iris-setosa\\\\\n",
       "\t 5.1 & 3.7 & 1.5 & 0.4 & Iris-setosa\\\\\n",
       "\t 4.6 & 3.6 & 1.0 & 0.2 & Iris-setosa\\\\\n",
       "\t 5.1 & 3.3 & 1.7 & 0.5 & Iris-setosa\\\\\n",
       "\t 4.8 & 3.4 & 1.9 & 0.2 & Iris-setosa\\\\\n",
       "\t 5.0 & 3.0 & 1.6 & 0.2 & Iris-setosa\\\\\n",
       "\t 5.0 & 3.4 & 1.6 & 0.4 & Iris-setosa\\\\\n",
       "\t 5.2 & 3.5 & 1.5 & 0.2 & Iris-setosa\\\\\n",
       "\t 5.2 & 3.4 & 1.4 & 0.2 & Iris-setosa\\\\\n",
       "\t 4.7 & 3.2 & 1.6 & 0.2 & Iris-setosa\\\\\n",
       "\t ... & ... & ... & ... & ...\\\\\n",
       "\t 6.9 & 3.2 & 5.7 & 2.3 & Iris-virginica\\\\\n",
       "\t 5.6 & 2.8 & 4.9 & 2.0 & Iris-virginica\\\\\n",
       "\t 7.7 & 2.8 & 6.7 & 2.0 & Iris-virginica\\\\\n",
       "\t 6.3 & 2.7 & 4.9 & 1.8 & Iris-virginica\\\\\n",
       "\t 6.7 & 3.3 & 5.7 & 2.1 & Iris-virginica\\\\\n",
       "\t 7.2 & 3.2 & 6.0 & 1.8 & Iris-virginica\\\\\n",
       "\t 6.2 & 2.8 & 4.8 & 1.8 & Iris-virginica\\\\\n",
       "\t 6.1 & 3.0 & 4.9 & 1.8 & Iris-virginica\\\\\n",
       "\t 6.4 & 2.8 & 5.6 & 2.1 & Iris-virginica\\\\\n",
       "\t 7.2 & 3.0 & 5.8 & 1.6 & Iris-virginica\\\\\n",
       "\t 7.4 & 2.8 & 6.1 & 1.9 & Iris-virginica\\\\\n",
       "\t 7.9 & 3.8 & 6.4 & 2.0 & Iris-virginica\\\\\n",
       "\t 6.4 & 2.8 & 5.6 & 2.2 & Iris-virginica\\\\\n",
       "\t 6.3 & 2.8 & 5.1 & 1.5 & Iris-virginica\\\\\n",
       "\t 6.1 & 2.6 & 5.6 & 1.4 & Iris-virginica\\\\\n",
       "\t 7.7 & 3.0 & 6.1 & 2.3 & Iris-virginica\\\\\n",
       "\t 6.3 & 3.4 & 5.6 & 2.4 & Iris-virginica\\\\\n",
       "\t 6.4 & 3.1 & 5.5 & 1.8 & Iris-virginica\\\\\n",
       "\t 6.0 & 3.0 & 4.8 & 1.8 & Iris-virginica\\\\\n",
       "\t 6.9 & 3.1 & 5.4 & 2.1 & Iris-virginica\\\\\n",
       "\t 6.7 & 3.1 & 5.6 & 2.4 & Iris-virginica\\\\\n",
       "\t 6.9 & 3.1 & 5.1 & 2.3 & Iris-virginica\\\\\n",
       "\t 5.8 & 2.7 & 5.1 & 1.9 & Iris-virginica\\\\\n",
       "\t 6.8 & 3.2 & 5.9 & 2.3 & Iris-virginica\\\\\n",
       "\t 6.7 & 3.3 & 5.7 & 2.5 & Iris-virginica\\\\\n",
       "\t 6.7 & 3.0 & 5.2 & 2.3 & Iris-virginica\\\\\n",
       "\t 6.3 & 2.5 & 5.0 & 1.9 & Iris-virginica\\\\\n",
       "\t 6.5 & 3.0 & 5.2 & 2.0 & Iris-virginica\\\\\n",
       "\t 6.2 & 3.4 & 5.4 & 2.3 & Iris-virginica\\\\\n",
       "\t 5.9 & 3.0 & 5.1 & 1.8 & Iris-virginica\\\\\n",
       "\\end{tabular}\n"
      ],
      "text/markdown": [
       "\n",
       "A spec_tbl_df: 150 × 5\n",
       "\n",
       "| S.length &lt;dbl&gt; | S.width &lt;dbl&gt; | P.length &lt;dbl&gt; | P.width &lt;dbl&gt; | Species &lt;chr&gt; |\n",
       "|---|---|---|---|---|\n",
       "| 5.1 | 3.5 | 1.4 | 0.2 | Iris-setosa |\n",
       "| 4.9 | 3.0 | 1.4 | 0.2 | Iris-setosa |\n",
       "| 4.7 | 3.2 | 1.3 | 0.2 | Iris-setosa |\n",
       "| 4.6 | 3.1 | 1.5 | 0.2 | Iris-setosa |\n",
       "| 5.0 | 3.6 | 1.4 | 0.2 | Iris-setosa |\n",
       "| 5.4 | 3.9 | 1.7 | 0.4 | Iris-setosa |\n",
       "| 4.6 | 3.4 | 1.4 | 0.3 | Iris-setosa |\n",
       "| 5.0 | 3.4 | 1.5 | 0.2 | Iris-setosa |\n",
       "| 4.4 | 2.9 | 1.4 | 0.2 | Iris-setosa |\n",
       "| 4.9 | 3.1 | 1.5 | 0.1 | Iris-setosa |\n",
       "| 5.4 | 3.7 | 1.5 | 0.2 | Iris-setosa |\n",
       "| 4.8 | 3.4 | 1.6 | 0.2 | Iris-setosa |\n",
       "| 4.8 | 3.0 | 1.4 | 0.1 | Iris-setosa |\n",
       "| 4.3 | 3.0 | 1.1 | 0.1 | Iris-setosa |\n",
       "| 5.8 | 4.0 | 1.2 | 0.2 | Iris-setosa |\n",
       "| 5.7 | 4.4 | 1.5 | 0.4 | Iris-setosa |\n",
       "| 5.4 | 3.9 | 1.3 | 0.4 | Iris-setosa |\n",
       "| 5.1 | 3.5 | 1.4 | 0.3 | Iris-setosa |\n",
       "| 5.7 | 3.8 | 1.7 | 0.3 | Iris-setosa |\n",
       "| 5.1 | 3.8 | 1.5 | 0.3 | Iris-setosa |\n",
       "| 5.4 | 3.4 | 1.7 | 0.2 | Iris-setosa |\n",
       "| 5.1 | 3.7 | 1.5 | 0.4 | Iris-setosa |\n",
       "| 4.6 | 3.6 | 1.0 | 0.2 | Iris-setosa |\n",
       "| 5.1 | 3.3 | 1.7 | 0.5 | Iris-setosa |\n",
       "| 4.8 | 3.4 | 1.9 | 0.2 | Iris-setosa |\n",
       "| 5.0 | 3.0 | 1.6 | 0.2 | Iris-setosa |\n",
       "| 5.0 | 3.4 | 1.6 | 0.4 | Iris-setosa |\n",
       "| 5.2 | 3.5 | 1.5 | 0.2 | Iris-setosa |\n",
       "| 5.2 | 3.4 | 1.4 | 0.2 | Iris-setosa |\n",
       "| 4.7 | 3.2 | 1.6 | 0.2 | Iris-setosa |\n",
       "| ... | ... | ... | ... | ... |\n",
       "| 6.9 | 3.2 | 5.7 | 2.3 | Iris-virginica |\n",
       "| 5.6 | 2.8 | 4.9 | 2.0 | Iris-virginica |\n",
       "| 7.7 | 2.8 | 6.7 | 2.0 | Iris-virginica |\n",
       "| 6.3 | 2.7 | 4.9 | 1.8 | Iris-virginica |\n",
       "| 6.7 | 3.3 | 5.7 | 2.1 | Iris-virginica |\n",
       "| 7.2 | 3.2 | 6.0 | 1.8 | Iris-virginica |\n",
       "| 6.2 | 2.8 | 4.8 | 1.8 | Iris-virginica |\n",
       "| 6.1 | 3.0 | 4.9 | 1.8 | Iris-virginica |\n",
       "| 6.4 | 2.8 | 5.6 | 2.1 | Iris-virginica |\n",
       "| 7.2 | 3.0 | 5.8 | 1.6 | Iris-virginica |\n",
       "| 7.4 | 2.8 | 6.1 | 1.9 | Iris-virginica |\n",
       "| 7.9 | 3.8 | 6.4 | 2.0 | Iris-virginica |\n",
       "| 6.4 | 2.8 | 5.6 | 2.2 | Iris-virginica |\n",
       "| 6.3 | 2.8 | 5.1 | 1.5 | Iris-virginica |\n",
       "| 6.1 | 2.6 | 5.6 | 1.4 | Iris-virginica |\n",
       "| 7.7 | 3.0 | 6.1 | 2.3 | Iris-virginica |\n",
       "| 6.3 | 3.4 | 5.6 | 2.4 | Iris-virginica |\n",
       "| 6.4 | 3.1 | 5.5 | 1.8 | Iris-virginica |\n",
       "| 6.0 | 3.0 | 4.8 | 1.8 | Iris-virginica |\n",
       "| 6.9 | 3.1 | 5.4 | 2.1 | Iris-virginica |\n",
       "| 6.7 | 3.1 | 5.6 | 2.4 | Iris-virginica |\n",
       "| 6.9 | 3.1 | 5.1 | 2.3 | Iris-virginica |\n",
       "| 5.8 | 2.7 | 5.1 | 1.9 | Iris-virginica |\n",
       "| 6.8 | 3.2 | 5.9 | 2.3 | Iris-virginica |\n",
       "| 6.7 | 3.3 | 5.7 | 2.5 | Iris-virginica |\n",
       "| 6.7 | 3.0 | 5.2 | 2.3 | Iris-virginica |\n",
       "| 6.3 | 2.5 | 5.0 | 1.9 | Iris-virginica |\n",
       "| 6.5 | 3.0 | 5.2 | 2.0 | Iris-virginica |\n",
       "| 6.2 | 3.4 | 5.4 | 2.3 | Iris-virginica |\n",
       "| 5.9 | 3.0 | 5.1 | 1.8 | Iris-virginica |\n",
       "\n"
      ],
      "text/plain": [
       "    S.length S.width P.length P.width Species       \n",
       "1   5.1      3.5     1.4      0.2     Iris-setosa   \n",
       "2   4.9      3.0     1.4      0.2     Iris-setosa   \n",
       "3   4.7      3.2     1.3      0.2     Iris-setosa   \n",
       "4   4.6      3.1     1.5      0.2     Iris-setosa   \n",
       "5   5.0      3.6     1.4      0.2     Iris-setosa   \n",
       "6   5.4      3.9     1.7      0.4     Iris-setosa   \n",
       "7   4.6      3.4     1.4      0.3     Iris-setosa   \n",
       "8   5.0      3.4     1.5      0.2     Iris-setosa   \n",
       "9   4.4      2.9     1.4      0.2     Iris-setosa   \n",
       "10  4.9      3.1     1.5      0.1     Iris-setosa   \n",
       "11  5.4      3.7     1.5      0.2     Iris-setosa   \n",
       "12  4.8      3.4     1.6      0.2     Iris-setosa   \n",
       "13  4.8      3.0     1.4      0.1     Iris-setosa   \n",
       "14  4.3      3.0     1.1      0.1     Iris-setosa   \n",
       "15  5.8      4.0     1.2      0.2     Iris-setosa   \n",
       "16  5.7      4.4     1.5      0.4     Iris-setosa   \n",
       "17  5.4      3.9     1.3      0.4     Iris-setosa   \n",
       "18  5.1      3.5     1.4      0.3     Iris-setosa   \n",
       "19  5.7      3.8     1.7      0.3     Iris-setosa   \n",
       "20  5.1      3.8     1.5      0.3     Iris-setosa   \n",
       "21  5.4      3.4     1.7      0.2     Iris-setosa   \n",
       "22  5.1      3.7     1.5      0.4     Iris-setosa   \n",
       "23  4.6      3.6     1.0      0.2     Iris-setosa   \n",
       "24  5.1      3.3     1.7      0.5     Iris-setosa   \n",
       "25  4.8      3.4     1.9      0.2     Iris-setosa   \n",
       "26  5.0      3.0     1.6      0.2     Iris-setosa   \n",
       "27  5.0      3.4     1.6      0.4     Iris-setosa   \n",
       "28  5.2      3.5     1.5      0.2     Iris-setosa   \n",
       "29  5.2      3.4     1.4      0.2     Iris-setosa   \n",
       "30  4.7      3.2     1.6      0.2     Iris-setosa   \n",
       "... ...      ...     ...      ...     ...           \n",
       "121 6.9      3.2     5.7      2.3     Iris-virginica\n",
       "122 5.6      2.8     4.9      2.0     Iris-virginica\n",
       "123 7.7      2.8     6.7      2.0     Iris-virginica\n",
       "124 6.3      2.7     4.9      1.8     Iris-virginica\n",
       "125 6.7      3.3     5.7      2.1     Iris-virginica\n",
       "126 7.2      3.2     6.0      1.8     Iris-virginica\n",
       "127 6.2      2.8     4.8      1.8     Iris-virginica\n",
       "128 6.1      3.0     4.9      1.8     Iris-virginica\n",
       "129 6.4      2.8     5.6      2.1     Iris-virginica\n",
       "130 7.2      3.0     5.8      1.6     Iris-virginica\n",
       "131 7.4      2.8     6.1      1.9     Iris-virginica\n",
       "132 7.9      3.8     6.4      2.0     Iris-virginica\n",
       "133 6.4      2.8     5.6      2.2     Iris-virginica\n",
       "134 6.3      2.8     5.1      1.5     Iris-virginica\n",
       "135 6.1      2.6     5.6      1.4     Iris-virginica\n",
       "136 7.7      3.0     6.1      2.3     Iris-virginica\n",
       "137 6.3      3.4     5.6      2.4     Iris-virginica\n",
       "138 6.4      3.1     5.5      1.8     Iris-virginica\n",
       "139 6.0      3.0     4.8      1.8     Iris-virginica\n",
       "140 6.9      3.1     5.4      2.1     Iris-virginica\n",
       "141 6.7      3.1     5.6      2.4     Iris-virginica\n",
       "142 6.9      3.1     5.1      2.3     Iris-virginica\n",
       "143 5.8      2.7     5.1      1.9     Iris-virginica\n",
       "144 6.8      3.2     5.9      2.3     Iris-virginica\n",
       "145 6.7      3.3     5.7      2.5     Iris-virginica\n",
       "146 6.7      3.0     5.2      2.3     Iris-virginica\n",
       "147 6.3      2.5     5.0      1.9     Iris-virginica\n",
       "148 6.5      3.0     5.2      2.0     Iris-virginica\n",
       "149 6.2      3.4     5.4      2.3     Iris-virginica\n",
       "150 5.9      3.0     5.1      1.8     Iris-virginica"
      ]
     },
     "metadata": {},
     "output_type": "display_data"
    }
   ],
   "source": [
    "iris.url <- \n",
    " \"https://archive.ics.uci.edu/ml/machine-learning-databases/iris/iris.data\"\n",
    "\n",
    "iris.data <- read_csv(iris.url, col_types=\"ddddc\",\n",
    "                      col_names=c(\"S.length\",\"S.width\",\"P.length\",\n",
    "                                  \"P.width\",\"Species\"))\n",
    "iris.data"
   ]
  },
  {
   "cell_type": "markdown",
   "metadata": {},
   "source": [
    "+ HTML table 불러오기\n",
    "+ 패키지 rvest의 함수 사용"
   ]
  },
  {
   "cell_type": "code",
   "execution_count": 2,
   "metadata": {},
   "outputs": [
    {
     "name": "stderr",
     "output_type": "stream",
     "text": [
      "Warning message:\n",
      "\"package 'rvest' was built under R version 3.5.3\"\n",
      "Loading required package: xml2\n",
      "\n",
      "Warning message:\n",
      "\"package 'xml2' was built under R version 3.5.3\"\n"
     ]
    }
   ],
   "source": [
    "library(rvest)\n",
    "URL <- \"https://en.wikipedia.org/wiki/World_population\"\n",
    "web <- read_html(URL)"
   ]
  },
  {
   "cell_type": "markdown",
   "metadata": {},
   "source": [
    "+ 읽어온 웹 페이지에서 함수 html_nodes()로 table 노드 추출"
   ]
  },
  {
   "cell_type": "code",
   "execution_count": 3,
   "metadata": {},
   "outputs": [
    {
     "data": {
      "text/html": [
       "25"
      ],
      "text/latex": [
       "25"
      ],
      "text/markdown": [
       "25"
      ],
      "text/plain": [
       "[1] 25"
      ]
     },
     "metadata": {},
     "output_type": "display_data"
    },
    {
     "data": {
      "text/plain": [
       "{xml_nodeset (6)}\n",
       "[1] <table class=\"box-Verify_sources plainlinks metadata ambox ambox-content\" ...\n",
       "[2] <table class=\"infobox\" style=\"float: right; font-size:90%\"><tbody>\\n<tr>< ...\n",
       "[3] <table class=\"wikitable sortable\">\\n<caption>Population by continent (201 ...\n",
       "[4] <table class=\"wikitable\" style=\"text-align:center; float:right; clear:rig ...\n",
       "[5] <table width=\"100%\"><tbody><tr>\\n<td valign=\"top\"> <div class=\"legend\" st ...\n",
       "[6] <table class=\"wikitable sortable\" style=\"text-align:right\"><tbody>\\n<tr>\\ ..."
      ]
     },
     "metadata": {},
     "output_type": "display_data"
    }
   ],
   "source": [
    "tbl <- html_nodes(web,\"table\")\n",
    "length(tbl)\n",
    "head(tbl)"
   ]
  },
  {
   "cell_type": "markdown",
   "metadata": {},
   "source": [
    "### html_table()로 테이블 데이터 불러오기\n",
    "+ 원하는 테이블이 몇 번째 노드인지 아는 경우"
   ]
  },
  {
   "cell_type": "code",
   "execution_count": 4,
   "metadata": {},
   "outputs": [
    {
     "data": {
      "text/html": [
       "<ol>\n",
       "\t<li><table>\n",
       "<caption>A data.frame: 10 × 5</caption>\n",
       "<thead>\n",
       "\t<tr><th scope=col>Rank</th><th scope=col>Country</th><th scope=col>Population</th><th scope=col>Area (km2)</th><th scope=col>Density (Pop. per km2)</th></tr>\n",
       "\t<tr><th scope=col>&lt;int&gt;</th><th scope=col>&lt;chr&gt;</th><th scope=col>&lt;chr&gt;</th><th scope=col>&lt;chr&gt;</th><th scope=col>&lt;chr&gt;</th></tr>\n",
       "</thead>\n",
       "<tbody>\n",
       "\t<tr><td> 1</td><td>Singapore  </td><td>5,703,600    </td><td>710      </td><td>8,033</td></tr>\n",
       "\t<tr><td> 2</td><td>Bangladesh </td><td>168,600,000  </td><td>143,998  </td><td>1,171</td></tr>\n",
       "\t<tr><td> 3</td><td>Lebanon    </td><td>6,855,713    </td><td>10,452   </td><td>656  </td></tr>\n",
       "\t<tr><td> 4</td><td>Taiwan     </td><td>23,604,265   </td><td>36,193   </td><td>652  </td></tr>\n",
       "\t<tr><td> 5</td><td>South Korea</td><td>51,780,579   </td><td>99,538   </td><td>520  </td></tr>\n",
       "\t<tr><td> 6</td><td>Rwanda     </td><td>12,374,397   </td><td>26,338   </td><td>470  </td></tr>\n",
       "\t<tr><td> 7</td><td>Haiti      </td><td>11,577,779   </td><td>27,065   </td><td>428  </td></tr>\n",
       "\t<tr><td> 8</td><td>Netherlands</td><td>17,470,000   </td><td>41,526   </td><td>421  </td></tr>\n",
       "\t<tr><td> 9</td><td>Israel     </td><td>9,200,000    </td><td>22,072   </td><td>417  </td></tr>\n",
       "\t<tr><td>10</td><td>India      </td><td>1,362,190,000</td><td>3,287,240</td><td>414  </td></tr>\n",
       "</tbody>\n",
       "</table>\n",
       "</li>\n",
       "</ol>\n"
      ],
      "text/latex": [
       "\\begin{enumerate}\n",
       "\\item A data.frame: 10 × 5\n",
       "\\begin{tabular}{lllll}\n",
       " Rank & Country & Population & Area (km2) & Density (Pop. per km2)\\\\\n",
       " <int> & <chr> & <chr> & <chr> & <chr>\\\\\n",
       "\\hline\n",
       "\t  1 & Singapore   & 5,703,600     & 710       & 8,033\\\\\n",
       "\t  2 & Bangladesh  & 168,600,000   & 143,998   & 1,171\\\\\n",
       "\t  3 & Lebanon     & 6,855,713     & 10,452    & 656  \\\\\n",
       "\t  4 & Taiwan      & 23,604,265    & 36,193    & 652  \\\\\n",
       "\t  5 & South Korea & 51,780,579    & 99,538    & 520  \\\\\n",
       "\t  6 & Rwanda      & 12,374,397    & 26,338    & 470  \\\\\n",
       "\t  7 & Haiti       & 11,577,779    & 27,065    & 428  \\\\\n",
       "\t  8 & Netherlands & 17,470,000    & 41,526    & 421  \\\\\n",
       "\t  9 & Israel      & 9,200,000     & 22,072    & 417  \\\\\n",
       "\t 10 & India       & 1,362,190,000 & 3,287,240 & 414  \\\\\n",
       "\\end{tabular}\n",
       "\n",
       "\\end{enumerate}\n"
      ],
      "text/markdown": [
       "1. \n",
       "A data.frame: 10 × 5\n",
       "\n",
       "| Rank &lt;int&gt; | Country &lt;chr&gt; | Population &lt;chr&gt; | Area (km2) &lt;chr&gt; | Density (Pop. per km2) &lt;chr&gt; |\n",
       "|---|---|---|---|---|\n",
       "|  1 | Singapore   | 5,703,600     | 710       | 8,033 |\n",
       "|  2 | Bangladesh  | 168,600,000   | 143,998   | 1,171 |\n",
       "|  3 | Lebanon     | 6,855,713     | 10,452    | 656   |\n",
       "|  4 | Taiwan      | 23,604,265    | 36,193    | 652   |\n",
       "|  5 | South Korea | 51,780,579    | 99,538    | 520   |\n",
       "|  6 | Rwanda      | 12,374,397    | 26,338    | 470   |\n",
       "|  7 | Haiti       | 11,577,779    | 27,065    | 428   |\n",
       "|  8 | Netherlands | 17,470,000    | 41,526    | 421   |\n",
       "|  9 | Israel      | 9,200,000     | 22,072    | 417   |\n",
       "| 10 | India       | 1,362,190,000 | 3,287,240 | 414   |\n",
       "\n",
       "\n",
       "\n",
       "\n"
      ],
      "text/plain": [
       "[[1]]\n",
       "   Rank     Country    Population Area (km2) Density (Pop. per km2)\n",
       "1     1   Singapore     5,703,600        710                  8,033\n",
       "2     2  Bangladesh   168,600,000    143,998                  1,171\n",
       "3     3     Lebanon     6,855,713     10,452                    656\n",
       "4     4      Taiwan    23,604,265     36,193                    652\n",
       "5     5 South Korea    51,780,579     99,538                    520\n",
       "6     6      Rwanda    12,374,397     26,338                    470\n",
       "7     7       Haiti    11,577,779     27,065                    428\n",
       "8     8 Netherlands    17,470,000     41,526                    421\n",
       "9     9      Israel     9,200,000     22,072                    417\n",
       "10   10       India 1,362,190,000  3,287,240                    414\n"
      ]
     },
     "metadata": {},
     "output_type": "display_data"
    }
   ],
   "source": [
    "tbl_1 <- html_table(tbl[7])\n",
    "tbl_1"
   ]
  },
  {
   "cell_type": "markdown",
   "metadata": {},
   "source": [
    "+ 원하는 테이블이 몇 번째 노드인지 모를 경우\n",
    "+ 해당 테이블 노드의 XPath를 알아야 함\n",
    "+ 테이블 노드의 XPath를 알아내는 방법 : 교재 참조"
   ]
  },
  {
   "cell_type": "code",
   "execution_count": 5,
   "metadata": {},
   "outputs": [
    {
     "name": "stdout",
     "output_type": "stream",
     "text": [
      "'data.frame':\t10 obs. of  5 variables:\n",
      " $ rank   : int  1 2 3 4 5 6 7 8 9 10\n",
      " $ country: chr  \"Singapore\" \"Bangladesh\" \"Lebanon\" \"Taiwan\" ...\n",
      " $ pop    : chr  \"5,703,600\" \"168,600,000\" \"6,855,713\" \"23,604,265\" ...\n",
      " $ area   : chr  \"710\" \"143,998\" \"10,452\" \"36,193\" ...\n",
      " $ density: chr  \"8,033\" \"1,171\" \"656\" \"652\" ...\n"
     ]
    }
   ],
   "source": [
    "top_pop <- tbl_1[[1]]\n",
    "names(top_pop) <- c(\"rank\",\"country\",\"pop\",\"area\",\"density\")\n",
    "str(top_pop)"
   ]
  },
  {
   "cell_type": "code",
   "execution_count": 6,
   "metadata": {},
   "outputs": [
    {
     "data": {
      "text/html": [
       "166935633.3"
      ],
      "text/latex": [
       "166935633.3"
      ],
      "text/markdown": [
       "166935633.3"
      ],
      "text/plain": [
       "[1] 166935633"
      ]
     },
     "metadata": {},
     "output_type": "display_data"
    }
   ],
   "source": [
    "pop <- top_pop$pop\n",
    "pop <- gsub(\",\",\"\",pop)\n",
    "mean(as.numeric(pop))"
   ]
  },
  {
   "cell_type": "markdown",
   "metadata": {},
   "source": [
    "# dplyr에 의한 데이터 변환\n",
    "### dplyr : tidyverse의 핵심 패키지\n",
    "\n",
    "### 통계 데이터 세트:\n",
    "+ 변수가 열, 관찰값이 행을 이루는 2차원 구조\n",
    "+ 데이터 프레임으로 입력\n",
    "\n",
    "### 입력된 대부분의 데이터 프레임 : 바로 분석할 수 있는 상태가 아님\n",
    "+ 분석에 필요한 적절한 변수 생성\n",
    "+ 특정 조건을 만족하는 관찰값만을 선택\n",
    "+ 관찰값의 순서 변경\n",
    "\n",
    "### 데이터 프레임 다듬기\n",
    "+ 매우 필요하나 시간이 많이 소요되는 힘든 작업\n",
    "+ 일관된 법칙에 따라 편리하게 적용되는 기법이 절실하게 필요한 상황\n",
    "\n",
    "### 패키지 dplyr의 주요 함수\n",
    "+ filter() : 특정 조건을 만족하는 관찰값 선택\n",
    "+ arrange() : 특정 변수를 기준으로 관찰값 정렬\n",
    "+ select() : 변수 선택\n",
    "+ mutate() : 새로운 변수 생성\n",
    "+ group_by() : 그룹 생성\n",
    "+ summarise() : 자료 요약"
   ]
  },
  {
   "cell_type": "markdown",
   "metadata": {},
   "source": [
    "### 조건에 따른 관찰값의 선택 : filter()\n",
    "+ 기본적인 형태 : filter(df, condition)\n",
    "+ df : 데이터 프레임 , condition : 관찰값 선택 조건\n",
    "\n",
    "+ 변수 mpg가 30 이상인 자동차 선택\n",
    "+ 변수 mpg가 30 이상이고 wt가 1.8미만인 자동차 선택\n",
    "+ 변수 mpg가 30 이하이고, cyl이 6또는 8이고, am이 1인 자동차 선택"
   ]
  },
  {
   "cell_type": "code",
   "execution_count": 17,
   "metadata": {
    "scrolled": false
   },
   "outputs": [
    {
     "data": {
      "text/html": [
       "<table>\n",
       "<caption>A tibble: 4 × 11</caption>\n",
       "<thead>\n",
       "\t<tr><th scope=col>mpg</th><th scope=col>cyl</th><th scope=col>disp</th><th scope=col>hp</th><th scope=col>drat</th><th scope=col>wt</th><th scope=col>qsec</th><th scope=col>vs</th><th scope=col>am</th><th scope=col>gear</th><th scope=col>carb</th></tr>\n",
       "\t<tr><th scope=col>&lt;dbl&gt;</th><th scope=col>&lt;dbl&gt;</th><th scope=col>&lt;dbl&gt;</th><th scope=col>&lt;dbl&gt;</th><th scope=col>&lt;dbl&gt;</th><th scope=col>&lt;dbl&gt;</th><th scope=col>&lt;dbl&gt;</th><th scope=col>&lt;dbl&gt;</th><th scope=col>&lt;dbl&gt;</th><th scope=col>&lt;dbl&gt;</th><th scope=col>&lt;dbl&gt;</th></tr>\n",
       "</thead>\n",
       "<tbody>\n",
       "\t<tr><td>32.4</td><td>4</td><td>78.7</td><td> 66</td><td>4.08</td><td>2.200</td><td>19.47</td><td>1</td><td>1</td><td>4</td><td>1</td></tr>\n",
       "\t<tr><td>30.4</td><td>4</td><td>75.7</td><td> 52</td><td>4.93</td><td>1.615</td><td>18.52</td><td>1</td><td>1</td><td>4</td><td>2</td></tr>\n",
       "\t<tr><td>33.9</td><td>4</td><td>71.1</td><td> 65</td><td>4.22</td><td>1.835</td><td>19.90</td><td>1</td><td>1</td><td>4</td><td>1</td></tr>\n",
       "\t<tr><td>30.4</td><td>4</td><td>95.1</td><td>113</td><td>3.77</td><td>1.513</td><td>16.90</td><td>1</td><td>1</td><td>5</td><td>2</td></tr>\n",
       "</tbody>\n",
       "</table>\n"
      ],
      "text/latex": [
       "A tibble: 4 × 11\n",
       "\\begin{tabular}{lllllllllll}\n",
       " mpg & cyl & disp & hp & drat & wt & qsec & vs & am & gear & carb\\\\\n",
       " <dbl> & <dbl> & <dbl> & <dbl> & <dbl> & <dbl> & <dbl> & <dbl> & <dbl> & <dbl> & <dbl>\\\\\n",
       "\\hline\n",
       "\t 32.4 & 4 & 78.7 &  66 & 4.08 & 2.200 & 19.47 & 1 & 1 & 4 & 1\\\\\n",
       "\t 30.4 & 4 & 75.7 &  52 & 4.93 & 1.615 & 18.52 & 1 & 1 & 4 & 2\\\\\n",
       "\t 33.9 & 4 & 71.1 &  65 & 4.22 & 1.835 & 19.90 & 1 & 1 & 4 & 1\\\\\n",
       "\t 30.4 & 4 & 95.1 & 113 & 3.77 & 1.513 & 16.90 & 1 & 1 & 5 & 2\\\\\n",
       "\\end{tabular}\n"
      ],
      "text/markdown": [
       "\n",
       "A tibble: 4 × 11\n",
       "\n",
       "| mpg &lt;dbl&gt; | cyl &lt;dbl&gt; | disp &lt;dbl&gt; | hp &lt;dbl&gt; | drat &lt;dbl&gt; | wt &lt;dbl&gt; | qsec &lt;dbl&gt; | vs &lt;dbl&gt; | am &lt;dbl&gt; | gear &lt;dbl&gt; | carb &lt;dbl&gt; |\n",
       "|---|---|---|---|---|---|---|---|---|---|---|\n",
       "| 32.4 | 4 | 78.7 |  66 | 4.08 | 2.200 | 19.47 | 1 | 1 | 4 | 1 |\n",
       "| 30.4 | 4 | 75.7 |  52 | 4.93 | 1.615 | 18.52 | 1 | 1 | 4 | 2 |\n",
       "| 33.9 | 4 | 71.1 |  65 | 4.22 | 1.835 | 19.90 | 1 | 1 | 4 | 1 |\n",
       "| 30.4 | 4 | 95.1 | 113 | 3.77 | 1.513 | 16.90 | 1 | 1 | 5 | 2 |\n",
       "\n"
      ],
      "text/plain": [
       "  mpg  cyl disp hp  drat wt    qsec  vs am gear carb\n",
       "1 32.4 4   78.7  66 4.08 2.200 19.47 1  1  4    1   \n",
       "2 30.4 4   75.7  52 4.93 1.615 18.52 1  1  4    2   \n",
       "3 33.9 4   71.1  65 4.22 1.835 19.90 1  1  4    1   \n",
       "4 30.4 4   95.1 113 3.77 1.513 16.90 1  1  5    2   "
      ]
     },
     "metadata": {},
     "output_type": "display_data"
    },
    {
     "data": {
      "text/html": [
       "<table>\n",
       "<caption>A tibble: 2 × 11</caption>\n",
       "<thead>\n",
       "\t<tr><th scope=col>mpg</th><th scope=col>cyl</th><th scope=col>disp</th><th scope=col>hp</th><th scope=col>drat</th><th scope=col>wt</th><th scope=col>qsec</th><th scope=col>vs</th><th scope=col>am</th><th scope=col>gear</th><th scope=col>carb</th></tr>\n",
       "\t<tr><th scope=col>&lt;dbl&gt;</th><th scope=col>&lt;dbl&gt;</th><th scope=col>&lt;dbl&gt;</th><th scope=col>&lt;dbl&gt;</th><th scope=col>&lt;dbl&gt;</th><th scope=col>&lt;dbl&gt;</th><th scope=col>&lt;dbl&gt;</th><th scope=col>&lt;dbl&gt;</th><th scope=col>&lt;dbl&gt;</th><th scope=col>&lt;dbl&gt;</th><th scope=col>&lt;dbl&gt;</th></tr>\n",
       "</thead>\n",
       "<tbody>\n",
       "\t<tr><td>30.4</td><td>4</td><td>75.7</td><td> 52</td><td>4.93</td><td>1.615</td><td>18.52</td><td>1</td><td>1</td><td>4</td><td>2</td></tr>\n",
       "\t<tr><td>30.4</td><td>4</td><td>95.1</td><td>113</td><td>3.77</td><td>1.513</td><td>16.90</td><td>1</td><td>1</td><td>5</td><td>2</td></tr>\n",
       "</tbody>\n",
       "</table>\n"
      ],
      "text/latex": [
       "A tibble: 2 × 11\n",
       "\\begin{tabular}{lllllllllll}\n",
       " mpg & cyl & disp & hp & drat & wt & qsec & vs & am & gear & carb\\\\\n",
       " <dbl> & <dbl> & <dbl> & <dbl> & <dbl> & <dbl> & <dbl> & <dbl> & <dbl> & <dbl> & <dbl>\\\\\n",
       "\\hline\n",
       "\t 30.4 & 4 & 75.7 &  52 & 4.93 & 1.615 & 18.52 & 1 & 1 & 4 & 2\\\\\n",
       "\t 30.4 & 4 & 95.1 & 113 & 3.77 & 1.513 & 16.90 & 1 & 1 & 5 & 2\\\\\n",
       "\\end{tabular}\n"
      ],
      "text/markdown": [
       "\n",
       "A tibble: 2 × 11\n",
       "\n",
       "| mpg &lt;dbl&gt; | cyl &lt;dbl&gt; | disp &lt;dbl&gt; | hp &lt;dbl&gt; | drat &lt;dbl&gt; | wt &lt;dbl&gt; | qsec &lt;dbl&gt; | vs &lt;dbl&gt; | am &lt;dbl&gt; | gear &lt;dbl&gt; | carb &lt;dbl&gt; |\n",
       "|---|---|---|---|---|---|---|---|---|---|---|\n",
       "| 30.4 | 4 | 75.7 |  52 | 4.93 | 1.615 | 18.52 | 1 | 1 | 4 | 2 |\n",
       "| 30.4 | 4 | 95.1 | 113 | 3.77 | 1.513 | 16.90 | 1 | 1 | 5 | 2 |\n",
       "\n"
      ],
      "text/plain": [
       "  mpg  cyl disp hp  drat wt    qsec  vs am gear carb\n",
       "1 30.4 4   75.7  52 4.93 1.615 18.52 1  1  4    2   \n",
       "2 30.4 4   95.1 113 3.77 1.513 16.90 1  1  5    2   "
      ]
     },
     "metadata": {},
     "output_type": "display_data"
    },
    {
     "data": {
      "text/html": [
       "<table>\n",
       "<caption>A tibble: 5 × 11</caption>\n",
       "<thead>\n",
       "\t<tr><th scope=col>mpg</th><th scope=col>cyl</th><th scope=col>disp</th><th scope=col>hp</th><th scope=col>drat</th><th scope=col>wt</th><th scope=col>qsec</th><th scope=col>vs</th><th scope=col>am</th><th scope=col>gear</th><th scope=col>carb</th></tr>\n",
       "\t<tr><th scope=col>&lt;dbl&gt;</th><th scope=col>&lt;dbl&gt;</th><th scope=col>&lt;dbl&gt;</th><th scope=col>&lt;dbl&gt;</th><th scope=col>&lt;dbl&gt;</th><th scope=col>&lt;dbl&gt;</th><th scope=col>&lt;dbl&gt;</th><th scope=col>&lt;dbl&gt;</th><th scope=col>&lt;dbl&gt;</th><th scope=col>&lt;dbl&gt;</th><th scope=col>&lt;dbl&gt;</th></tr>\n",
       "</thead>\n",
       "<tbody>\n",
       "\t<tr><td>21.0</td><td>6</td><td>160</td><td>110</td><td>3.90</td><td>2.620</td><td>16.46</td><td>0</td><td>1</td><td>4</td><td>4</td></tr>\n",
       "\t<tr><td>21.0</td><td>6</td><td>160</td><td>110</td><td>3.90</td><td>2.875</td><td>17.02</td><td>0</td><td>1</td><td>4</td><td>4</td></tr>\n",
       "\t<tr><td>15.8</td><td>8</td><td>351</td><td>264</td><td>4.22</td><td>3.170</td><td>14.50</td><td>0</td><td>1</td><td>5</td><td>4</td></tr>\n",
       "\t<tr><td>19.7</td><td>6</td><td>145</td><td>175</td><td>3.62</td><td>2.770</td><td>15.50</td><td>0</td><td>1</td><td>5</td><td>6</td></tr>\n",
       "\t<tr><td>15.0</td><td>8</td><td>301</td><td>335</td><td>3.54</td><td>3.570</td><td>14.60</td><td>0</td><td>1</td><td>5</td><td>8</td></tr>\n",
       "</tbody>\n",
       "</table>\n"
      ],
      "text/latex": [
       "A tibble: 5 × 11\n",
       "\\begin{tabular}{lllllllllll}\n",
       " mpg & cyl & disp & hp & drat & wt & qsec & vs & am & gear & carb\\\\\n",
       " <dbl> & <dbl> & <dbl> & <dbl> & <dbl> & <dbl> & <dbl> & <dbl> & <dbl> & <dbl> & <dbl>\\\\\n",
       "\\hline\n",
       "\t 21.0 & 6 & 160 & 110 & 3.90 & 2.620 & 16.46 & 0 & 1 & 4 & 4\\\\\n",
       "\t 21.0 & 6 & 160 & 110 & 3.90 & 2.875 & 17.02 & 0 & 1 & 4 & 4\\\\\n",
       "\t 15.8 & 8 & 351 & 264 & 4.22 & 3.170 & 14.50 & 0 & 1 & 5 & 4\\\\\n",
       "\t 19.7 & 6 & 145 & 175 & 3.62 & 2.770 & 15.50 & 0 & 1 & 5 & 6\\\\\n",
       "\t 15.0 & 8 & 301 & 335 & 3.54 & 3.570 & 14.60 & 0 & 1 & 5 & 8\\\\\n",
       "\\end{tabular}\n"
      ],
      "text/markdown": [
       "\n",
       "A tibble: 5 × 11\n",
       "\n",
       "| mpg &lt;dbl&gt; | cyl &lt;dbl&gt; | disp &lt;dbl&gt; | hp &lt;dbl&gt; | drat &lt;dbl&gt; | wt &lt;dbl&gt; | qsec &lt;dbl&gt; | vs &lt;dbl&gt; | am &lt;dbl&gt; | gear &lt;dbl&gt; | carb &lt;dbl&gt; |\n",
       "|---|---|---|---|---|---|---|---|---|---|---|\n",
       "| 21.0 | 6 | 160 | 110 | 3.90 | 2.620 | 16.46 | 0 | 1 | 4 | 4 |\n",
       "| 21.0 | 6 | 160 | 110 | 3.90 | 2.875 | 17.02 | 0 | 1 | 4 | 4 |\n",
       "| 15.8 | 8 | 351 | 264 | 4.22 | 3.170 | 14.50 | 0 | 1 | 5 | 4 |\n",
       "| 19.7 | 6 | 145 | 175 | 3.62 | 2.770 | 15.50 | 0 | 1 | 5 | 6 |\n",
       "| 15.0 | 8 | 301 | 335 | 3.54 | 3.570 | 14.60 | 0 | 1 | 5 | 8 |\n",
       "\n"
      ],
      "text/plain": [
       "  mpg  cyl disp hp  drat wt    qsec  vs am gear carb\n",
       "1 21.0 6   160  110 3.90 2.620 16.46 0  1  4    4   \n",
       "2 21.0 6   160  110 3.90 2.875 17.02 0  1  4    4   \n",
       "3 15.8 8   351  264 4.22 3.170 14.50 0  1  5    4   \n",
       "4 19.7 6   145  175 3.62 2.770 15.50 0  1  5    6   \n",
       "5 15.0 8   301  335 3.54 3.570 14.60 0  1  5    8   "
      ]
     },
     "metadata": {},
     "output_type": "display_data"
    }
   ],
   "source": [
    "library(tidyverse)\n",
    "mtcars_t <- as_tibble(mtcars)\n",
    "filter(mtcars_t, mpg >= 30)\n",
    "filter(mtcars_t, mpg >= 30 & wt < 1.8)\n",
    "filter(mtcars_t, mpg <= 30 & cyl %in% c(6,8) & am == 1)"
   ]
  },
  {
   "cell_type": "markdown",
   "metadata": {},
   "source": [
    "+ 변수 mpg의 값이 mpg의 중앙값과 Q3 사이에 있는 자동차 선택"
   ]
  },
  {
   "cell_type": "code",
   "execution_count": 18,
   "metadata": {},
   "outputs": [
    {
     "data": {
      "text/html": [
       "<table>\n",
       "<caption>A tibble: 10 × 11</caption>\n",
       "<thead>\n",
       "\t<tr><th scope=col>mpg</th><th scope=col>cyl</th><th scope=col>disp</th><th scope=col>hp</th><th scope=col>drat</th><th scope=col>wt</th><th scope=col>qsec</th><th scope=col>vs</th><th scope=col>am</th><th scope=col>gear</th><th scope=col>carb</th></tr>\n",
       "\t<tr><th scope=col>&lt;dbl&gt;</th><th scope=col>&lt;dbl&gt;</th><th scope=col>&lt;dbl&gt;</th><th scope=col>&lt;dbl&gt;</th><th scope=col>&lt;dbl&gt;</th><th scope=col>&lt;dbl&gt;</th><th scope=col>&lt;dbl&gt;</th><th scope=col>&lt;dbl&gt;</th><th scope=col>&lt;dbl&gt;</th><th scope=col>&lt;dbl&gt;</th><th scope=col>&lt;dbl&gt;</th></tr>\n",
       "</thead>\n",
       "<tbody>\n",
       "\t<tr><td>21.0</td><td>6</td><td>160.0</td><td>110</td><td>3.90</td><td>2.620</td><td>16.46</td><td>0</td><td>1</td><td>4</td><td>4</td></tr>\n",
       "\t<tr><td>21.0</td><td>6</td><td>160.0</td><td>110</td><td>3.90</td><td>2.875</td><td>17.02</td><td>0</td><td>1</td><td>4</td><td>4</td></tr>\n",
       "\t<tr><td>22.8</td><td>4</td><td>108.0</td><td> 93</td><td>3.85</td><td>2.320</td><td>18.61</td><td>1</td><td>1</td><td>4</td><td>1</td></tr>\n",
       "\t<tr><td>21.4</td><td>6</td><td>258.0</td><td>110</td><td>3.08</td><td>3.215</td><td>19.44</td><td>1</td><td>0</td><td>3</td><td>1</td></tr>\n",
       "\t<tr><td>22.8</td><td>4</td><td>140.8</td><td> 95</td><td>3.92</td><td>3.150</td><td>22.90</td><td>1</td><td>0</td><td>4</td><td>2</td></tr>\n",
       "\t<tr><td>19.2</td><td>6</td><td>167.6</td><td>123</td><td>3.92</td><td>3.440</td><td>18.30</td><td>1</td><td>0</td><td>4</td><td>4</td></tr>\n",
       "\t<tr><td>21.5</td><td>4</td><td>120.1</td><td> 97</td><td>3.70</td><td>2.465</td><td>20.01</td><td>1</td><td>0</td><td>3</td><td>1</td></tr>\n",
       "\t<tr><td>19.2</td><td>8</td><td>400.0</td><td>175</td><td>3.08</td><td>3.845</td><td>17.05</td><td>0</td><td>0</td><td>3</td><td>2</td></tr>\n",
       "\t<tr><td>19.7</td><td>6</td><td>145.0</td><td>175</td><td>3.62</td><td>2.770</td><td>15.50</td><td>0</td><td>1</td><td>5</td><td>6</td></tr>\n",
       "\t<tr><td>21.4</td><td>4</td><td>121.0</td><td>109</td><td>4.11</td><td>2.780</td><td>18.60</td><td>1</td><td>1</td><td>4</td><td>2</td></tr>\n",
       "</tbody>\n",
       "</table>\n"
      ],
      "text/latex": [
       "A tibble: 10 × 11\n",
       "\\begin{tabular}{lllllllllll}\n",
       " mpg & cyl & disp & hp & drat & wt & qsec & vs & am & gear & carb\\\\\n",
       " <dbl> & <dbl> & <dbl> & <dbl> & <dbl> & <dbl> & <dbl> & <dbl> & <dbl> & <dbl> & <dbl>\\\\\n",
       "\\hline\n",
       "\t 21.0 & 6 & 160.0 & 110 & 3.90 & 2.620 & 16.46 & 0 & 1 & 4 & 4\\\\\n",
       "\t 21.0 & 6 & 160.0 & 110 & 3.90 & 2.875 & 17.02 & 0 & 1 & 4 & 4\\\\\n",
       "\t 22.8 & 4 & 108.0 &  93 & 3.85 & 2.320 & 18.61 & 1 & 1 & 4 & 1\\\\\n",
       "\t 21.4 & 6 & 258.0 & 110 & 3.08 & 3.215 & 19.44 & 1 & 0 & 3 & 1\\\\\n",
       "\t 22.8 & 4 & 140.8 &  95 & 3.92 & 3.150 & 22.90 & 1 & 0 & 4 & 2\\\\\n",
       "\t 19.2 & 6 & 167.6 & 123 & 3.92 & 3.440 & 18.30 & 1 & 0 & 4 & 4\\\\\n",
       "\t 21.5 & 4 & 120.1 &  97 & 3.70 & 2.465 & 20.01 & 1 & 0 & 3 & 1\\\\\n",
       "\t 19.2 & 8 & 400.0 & 175 & 3.08 & 3.845 & 17.05 & 0 & 0 & 3 & 2\\\\\n",
       "\t 19.7 & 6 & 145.0 & 175 & 3.62 & 2.770 & 15.50 & 0 & 1 & 5 & 6\\\\\n",
       "\t 21.4 & 4 & 121.0 & 109 & 4.11 & 2.780 & 18.60 & 1 & 1 & 4 & 2\\\\\n",
       "\\end{tabular}\n"
      ],
      "text/markdown": [
       "\n",
       "A tibble: 10 × 11\n",
       "\n",
       "| mpg &lt;dbl&gt; | cyl &lt;dbl&gt; | disp &lt;dbl&gt; | hp &lt;dbl&gt; | drat &lt;dbl&gt; | wt &lt;dbl&gt; | qsec &lt;dbl&gt; | vs &lt;dbl&gt; | am &lt;dbl&gt; | gear &lt;dbl&gt; | carb &lt;dbl&gt; |\n",
       "|---|---|---|---|---|---|---|---|---|---|---|\n",
       "| 21.0 | 6 | 160.0 | 110 | 3.90 | 2.620 | 16.46 | 0 | 1 | 4 | 4 |\n",
       "| 21.0 | 6 | 160.0 | 110 | 3.90 | 2.875 | 17.02 | 0 | 1 | 4 | 4 |\n",
       "| 22.8 | 4 | 108.0 |  93 | 3.85 | 2.320 | 18.61 | 1 | 1 | 4 | 1 |\n",
       "| 21.4 | 6 | 258.0 | 110 | 3.08 | 3.215 | 19.44 | 1 | 0 | 3 | 1 |\n",
       "| 22.8 | 4 | 140.8 |  95 | 3.92 | 3.150 | 22.90 | 1 | 0 | 4 | 2 |\n",
       "| 19.2 | 6 | 167.6 | 123 | 3.92 | 3.440 | 18.30 | 1 | 0 | 4 | 4 |\n",
       "| 21.5 | 4 | 120.1 |  97 | 3.70 | 2.465 | 20.01 | 1 | 0 | 3 | 1 |\n",
       "| 19.2 | 8 | 400.0 | 175 | 3.08 | 3.845 | 17.05 | 0 | 0 | 3 | 2 |\n",
       "| 19.7 | 6 | 145.0 | 175 | 3.62 | 2.770 | 15.50 | 0 | 1 | 5 | 6 |\n",
       "| 21.4 | 4 | 121.0 | 109 | 4.11 | 2.780 | 18.60 | 1 | 1 | 4 | 2 |\n",
       "\n"
      ],
      "text/plain": [
       "   mpg  cyl disp  hp  drat wt    qsec  vs am gear carb\n",
       "1  21.0 6   160.0 110 3.90 2.620 16.46 0  1  4    4   \n",
       "2  21.0 6   160.0 110 3.90 2.875 17.02 0  1  4    4   \n",
       "3  22.8 4   108.0  93 3.85 2.320 18.61 1  1  4    1   \n",
       "4  21.4 6   258.0 110 3.08 3.215 19.44 1  0  3    1   \n",
       "5  22.8 4   140.8  95 3.92 3.150 22.90 1  0  4    2   \n",
       "6  19.2 6   167.6 123 3.92 3.440 18.30 1  0  4    4   \n",
       "7  21.5 4   120.1  97 3.70 2.465 20.01 1  0  3    1   \n",
       "8  19.2 8   400.0 175 3.08 3.845 17.05 0  0  3    2   \n",
       "9  19.7 6   145.0 175 3.62 2.770 15.50 0  1  5    6   \n",
       "10 21.4 4   121.0 109 4.11 2.780 18.60 1  1  4    2   "
      ]
     },
     "metadata": {},
     "output_type": "display_data"
    },
    {
     "data": {
      "text/html": [
       "<table>\n",
       "<caption>A tibble: 10 × 11</caption>\n",
       "<thead>\n",
       "\t<tr><th scope=col>mpg</th><th scope=col>cyl</th><th scope=col>disp</th><th scope=col>hp</th><th scope=col>drat</th><th scope=col>wt</th><th scope=col>qsec</th><th scope=col>vs</th><th scope=col>am</th><th scope=col>gear</th><th scope=col>carb</th></tr>\n",
       "\t<tr><th scope=col>&lt;dbl&gt;</th><th scope=col>&lt;dbl&gt;</th><th scope=col>&lt;dbl&gt;</th><th scope=col>&lt;dbl&gt;</th><th scope=col>&lt;dbl&gt;</th><th scope=col>&lt;dbl&gt;</th><th scope=col>&lt;dbl&gt;</th><th scope=col>&lt;dbl&gt;</th><th scope=col>&lt;dbl&gt;</th><th scope=col>&lt;dbl&gt;</th><th scope=col>&lt;dbl&gt;</th></tr>\n",
       "</thead>\n",
       "<tbody>\n",
       "\t<tr><td>21.0</td><td>6</td><td>160.0</td><td>110</td><td>3.90</td><td>2.620</td><td>16.46</td><td>0</td><td>1</td><td>4</td><td>4</td></tr>\n",
       "\t<tr><td>21.0</td><td>6</td><td>160.0</td><td>110</td><td>3.90</td><td>2.875</td><td>17.02</td><td>0</td><td>1</td><td>4</td><td>4</td></tr>\n",
       "\t<tr><td>22.8</td><td>4</td><td>108.0</td><td> 93</td><td>3.85</td><td>2.320</td><td>18.61</td><td>1</td><td>1</td><td>4</td><td>1</td></tr>\n",
       "\t<tr><td>21.4</td><td>6</td><td>258.0</td><td>110</td><td>3.08</td><td>3.215</td><td>19.44</td><td>1</td><td>0</td><td>3</td><td>1</td></tr>\n",
       "\t<tr><td>22.8</td><td>4</td><td>140.8</td><td> 95</td><td>3.92</td><td>3.150</td><td>22.90</td><td>1</td><td>0</td><td>4</td><td>2</td></tr>\n",
       "\t<tr><td>19.2</td><td>6</td><td>167.6</td><td>123</td><td>3.92</td><td>3.440</td><td>18.30</td><td>1</td><td>0</td><td>4</td><td>4</td></tr>\n",
       "\t<tr><td>21.5</td><td>4</td><td>120.1</td><td> 97</td><td>3.70</td><td>2.465</td><td>20.01</td><td>1</td><td>0</td><td>3</td><td>1</td></tr>\n",
       "\t<tr><td>19.2</td><td>8</td><td>400.0</td><td>175</td><td>3.08</td><td>3.845</td><td>17.05</td><td>0</td><td>0</td><td>3</td><td>2</td></tr>\n",
       "\t<tr><td>19.7</td><td>6</td><td>145.0</td><td>175</td><td>3.62</td><td>2.770</td><td>15.50</td><td>0</td><td>1</td><td>5</td><td>6</td></tr>\n",
       "\t<tr><td>21.4</td><td>4</td><td>121.0</td><td>109</td><td>4.11</td><td>2.780</td><td>18.60</td><td>1</td><td>1</td><td>4</td><td>2</td></tr>\n",
       "</tbody>\n",
       "</table>\n"
      ],
      "text/latex": [
       "A tibble: 10 × 11\n",
       "\\begin{tabular}{lllllllllll}\n",
       " mpg & cyl & disp & hp & drat & wt & qsec & vs & am & gear & carb\\\\\n",
       " <dbl> & <dbl> & <dbl> & <dbl> & <dbl> & <dbl> & <dbl> & <dbl> & <dbl> & <dbl> & <dbl>\\\\\n",
       "\\hline\n",
       "\t 21.0 & 6 & 160.0 & 110 & 3.90 & 2.620 & 16.46 & 0 & 1 & 4 & 4\\\\\n",
       "\t 21.0 & 6 & 160.0 & 110 & 3.90 & 2.875 & 17.02 & 0 & 1 & 4 & 4\\\\\n",
       "\t 22.8 & 4 & 108.0 &  93 & 3.85 & 2.320 & 18.61 & 1 & 1 & 4 & 1\\\\\n",
       "\t 21.4 & 6 & 258.0 & 110 & 3.08 & 3.215 & 19.44 & 1 & 0 & 3 & 1\\\\\n",
       "\t 22.8 & 4 & 140.8 &  95 & 3.92 & 3.150 & 22.90 & 1 & 0 & 4 & 2\\\\\n",
       "\t 19.2 & 6 & 167.6 & 123 & 3.92 & 3.440 & 18.30 & 1 & 0 & 4 & 4\\\\\n",
       "\t 21.5 & 4 & 120.1 &  97 & 3.70 & 2.465 & 20.01 & 1 & 0 & 3 & 1\\\\\n",
       "\t 19.2 & 8 & 400.0 & 175 & 3.08 & 3.845 & 17.05 & 0 & 0 & 3 & 2\\\\\n",
       "\t 19.7 & 6 & 145.0 & 175 & 3.62 & 2.770 & 15.50 & 0 & 1 & 5 & 6\\\\\n",
       "\t 21.4 & 4 & 121.0 & 109 & 4.11 & 2.780 & 18.60 & 1 & 1 & 4 & 2\\\\\n",
       "\\end{tabular}\n"
      ],
      "text/markdown": [
       "\n",
       "A tibble: 10 × 11\n",
       "\n",
       "| mpg &lt;dbl&gt; | cyl &lt;dbl&gt; | disp &lt;dbl&gt; | hp &lt;dbl&gt; | drat &lt;dbl&gt; | wt &lt;dbl&gt; | qsec &lt;dbl&gt; | vs &lt;dbl&gt; | am &lt;dbl&gt; | gear &lt;dbl&gt; | carb &lt;dbl&gt; |\n",
       "|---|---|---|---|---|---|---|---|---|---|---|\n",
       "| 21.0 | 6 | 160.0 | 110 | 3.90 | 2.620 | 16.46 | 0 | 1 | 4 | 4 |\n",
       "| 21.0 | 6 | 160.0 | 110 | 3.90 | 2.875 | 17.02 | 0 | 1 | 4 | 4 |\n",
       "| 22.8 | 4 | 108.0 |  93 | 3.85 | 2.320 | 18.61 | 1 | 1 | 4 | 1 |\n",
       "| 21.4 | 6 | 258.0 | 110 | 3.08 | 3.215 | 19.44 | 1 | 0 | 3 | 1 |\n",
       "| 22.8 | 4 | 140.8 |  95 | 3.92 | 3.150 | 22.90 | 1 | 0 | 4 | 2 |\n",
       "| 19.2 | 6 | 167.6 | 123 | 3.92 | 3.440 | 18.30 | 1 | 0 | 4 | 4 |\n",
       "| 21.5 | 4 | 120.1 |  97 | 3.70 | 2.465 | 20.01 | 1 | 0 | 3 | 1 |\n",
       "| 19.2 | 8 | 400.0 | 175 | 3.08 | 3.845 | 17.05 | 0 | 0 | 3 | 2 |\n",
       "| 19.7 | 6 | 145.0 | 175 | 3.62 | 2.770 | 15.50 | 0 | 1 | 5 | 6 |\n",
       "| 21.4 | 4 | 121.0 | 109 | 4.11 | 2.780 | 18.60 | 1 | 1 | 4 | 2 |\n",
       "\n"
      ],
      "text/plain": [
       "   mpg  cyl disp  hp  drat wt    qsec  vs am gear carb\n",
       "1  21.0 6   160.0 110 3.90 2.620 16.46 0  1  4    4   \n",
       "2  21.0 6   160.0 110 3.90 2.875 17.02 0  1  4    4   \n",
       "3  22.8 4   108.0  93 3.85 2.320 18.61 1  1  4    1   \n",
       "4  21.4 6   258.0 110 3.08 3.215 19.44 1  0  3    1   \n",
       "5  22.8 4   140.8  95 3.92 3.150 22.90 1  0  4    2   \n",
       "6  19.2 6   167.6 123 3.92 3.440 18.30 1  0  4    4   \n",
       "7  21.5 4   120.1  97 3.70 2.465 20.01 1  0  3    1   \n",
       "8  19.2 8   400.0 175 3.08 3.845 17.05 0  0  3    2   \n",
       "9  19.7 6   145.0 175 3.62 2.770 15.50 0  1  5    6   \n",
       "10 21.4 4   121.0 109 4.11 2.780 18.60 1  1  4    2   "
      ]
     },
     "metadata": {},
     "output_type": "display_data"
    }
   ],
   "source": [
    "filter(mtcars_t, mpg >= median(mpg) & mpg <= quantile(mpg,probs=0.75))\n",
    "filter(mtcars_t, between(mpg,median(mpg),quantile(mpg,probs=0.75)))"
   ]
  },
  {
   "cell_type": "markdown",
   "metadata": {},
   "source": [
    "+ 예제 : airquality"
   ]
  },
  {
   "cell_type": "code",
   "execution_count": 19,
   "metadata": {},
   "outputs": [
    {
     "data": {
      "text/html": [
       "<table>\n",
       "<caption>A tibble: 42 × 6</caption>\n",
       "<thead>\n",
       "\t<tr><th scope=col>Ozone</th><th scope=col>Solar.R</th><th scope=col>Wind</th><th scope=col>Temp</th><th scope=col>Month</th><th scope=col>Day</th></tr>\n",
       "\t<tr><th scope=col>&lt;int&gt;</th><th scope=col>&lt;int&gt;</th><th scope=col>&lt;dbl&gt;</th><th scope=col>&lt;int&gt;</th><th scope=col>&lt;int&gt;</th><th scope=col>&lt;int&gt;</th></tr>\n",
       "</thead>\n",
       "<tbody>\n",
       "\t<tr><td>NA</td><td> NA</td><td>14.3</td><td>56</td><td>5</td><td> 5</td></tr>\n",
       "\t<tr><td>28</td><td> NA</td><td>14.9</td><td>66</td><td>5</td><td> 6</td></tr>\n",
       "\t<tr><td>NA</td><td>194</td><td> 8.6</td><td>69</td><td>5</td><td>10</td></tr>\n",
       "\t<tr><td> 7</td><td> NA</td><td> 6.9</td><td>74</td><td>5</td><td>11</td></tr>\n",
       "\t<tr><td>NA</td><td> 66</td><td>16.6</td><td>57</td><td>5</td><td>25</td></tr>\n",
       "\t<tr><td>NA</td><td>266</td><td>14.9</td><td>58</td><td>5</td><td>26</td></tr>\n",
       "\t<tr><td>NA</td><td> NA</td><td> 8.0</td><td>57</td><td>5</td><td>27</td></tr>\n",
       "\t<tr><td>NA</td><td>286</td><td> 8.6</td><td>78</td><td>6</td><td> 1</td></tr>\n",
       "\t<tr><td>NA</td><td>287</td><td> 9.7</td><td>74</td><td>6</td><td> 2</td></tr>\n",
       "\t<tr><td>NA</td><td>242</td><td>16.1</td><td>67</td><td>6</td><td> 3</td></tr>\n",
       "\t<tr><td>NA</td><td>186</td><td> 9.2</td><td>84</td><td>6</td><td> 4</td></tr>\n",
       "\t<tr><td>NA</td><td>220</td><td> 8.6</td><td>85</td><td>6</td><td> 5</td></tr>\n",
       "\t<tr><td>NA</td><td>264</td><td>14.3</td><td>79</td><td>6</td><td> 6</td></tr>\n",
       "\t<tr><td>NA</td><td>273</td><td> 6.9</td><td>87</td><td>6</td><td> 8</td></tr>\n",
       "\t<tr><td>NA</td><td>259</td><td>10.9</td><td>93</td><td>6</td><td>11</td></tr>\n",
       "\t<tr><td>NA</td><td>250</td><td> 9.2</td><td>92</td><td>6</td><td>12</td></tr>\n",
       "\t<tr><td>NA</td><td>332</td><td>13.8</td><td>80</td><td>6</td><td>14</td></tr>\n",
       "\t<tr><td>NA</td><td>322</td><td>11.5</td><td>79</td><td>6</td><td>15</td></tr>\n",
       "\t<tr><td>NA</td><td>150</td><td> 6.3</td><td>77</td><td>6</td><td>21</td></tr>\n",
       "\t<tr><td>NA</td><td> 59</td><td> 1.7</td><td>76</td><td>6</td><td>22</td></tr>\n",
       "\t<tr><td>NA</td><td> 91</td><td> 4.6</td><td>76</td><td>6</td><td>23</td></tr>\n",
       "\t<tr><td>NA</td><td>250</td><td> 6.3</td><td>76</td><td>6</td><td>24</td></tr>\n",
       "\t<tr><td>NA</td><td>135</td><td> 8.0</td><td>75</td><td>6</td><td>25</td></tr>\n",
       "\t<tr><td>NA</td><td>127</td><td> 8.0</td><td>78</td><td>6</td><td>26</td></tr>\n",
       "\t<tr><td>NA</td><td> 47</td><td>10.3</td><td>73</td><td>6</td><td>27</td></tr>\n",
       "\t<tr><td>NA</td><td> 98</td><td>11.5</td><td>80</td><td>6</td><td>28</td></tr>\n",
       "\t<tr><td>NA</td><td> 31</td><td>14.9</td><td>77</td><td>6</td><td>29</td></tr>\n",
       "\t<tr><td>NA</td><td>138</td><td> 8.0</td><td>83</td><td>6</td><td>30</td></tr>\n",
       "\t<tr><td>NA</td><td>101</td><td>10.9</td><td>84</td><td>7</td><td> 4</td></tr>\n",
       "\t<tr><td>NA</td><td>139</td><td> 8.6</td><td>82</td><td>7</td><td>11</td></tr>\n",
       "\t<tr><td>NA</td><td>291</td><td>14.9</td><td>91</td><td>7</td><td>14</td></tr>\n",
       "\t<tr><td>NA</td><td>258</td><td> 9.7</td><td>81</td><td>7</td><td>22</td></tr>\n",
       "\t<tr><td>NA</td><td>295</td><td>11.5</td><td>82</td><td>7</td><td>23</td></tr>\n",
       "\t<tr><td>78</td><td> NA</td><td> 6.9</td><td>86</td><td>8</td><td> 4</td></tr>\n",
       "\t<tr><td>35</td><td> NA</td><td> 7.4</td><td>85</td><td>8</td><td> 5</td></tr>\n",
       "\t<tr><td>66</td><td> NA</td><td> 4.6</td><td>87</td><td>8</td><td> 6</td></tr>\n",
       "\t<tr><td>NA</td><td>222</td><td> 8.6</td><td>92</td><td>8</td><td>10</td></tr>\n",
       "\t<tr><td>NA</td><td>137</td><td>11.5</td><td>86</td><td>8</td><td>11</td></tr>\n",
       "\t<tr><td>NA</td><td> 64</td><td>11.5</td><td>79</td><td>8</td><td>15</td></tr>\n",
       "\t<tr><td>NA</td><td>255</td><td>12.6</td><td>75</td><td>8</td><td>23</td></tr>\n",
       "\t<tr><td>NA</td><td>153</td><td> 5.7</td><td>88</td><td>8</td><td>27</td></tr>\n",
       "\t<tr><td>NA</td><td>145</td><td>13.2</td><td>77</td><td>9</td><td>27</td></tr>\n",
       "</tbody>\n",
       "</table>\n"
      ],
      "text/latex": [
       "A tibble: 42 × 6\n",
       "\\begin{tabular}{llllll}\n",
       " Ozone & Solar.R & Wind & Temp & Month & Day\\\\\n",
       " <int> & <int> & <dbl> & <int> & <int> & <int>\\\\\n",
       "\\hline\n",
       "\t NA &  NA & 14.3 & 56 & 5 &  5\\\\\n",
       "\t 28 &  NA & 14.9 & 66 & 5 &  6\\\\\n",
       "\t NA & 194 &  8.6 & 69 & 5 & 10\\\\\n",
       "\t  7 &  NA &  6.9 & 74 & 5 & 11\\\\\n",
       "\t NA &  66 & 16.6 & 57 & 5 & 25\\\\\n",
       "\t NA & 266 & 14.9 & 58 & 5 & 26\\\\\n",
       "\t NA &  NA &  8.0 & 57 & 5 & 27\\\\\n",
       "\t NA & 286 &  8.6 & 78 & 6 &  1\\\\\n",
       "\t NA & 287 &  9.7 & 74 & 6 &  2\\\\\n",
       "\t NA & 242 & 16.1 & 67 & 6 &  3\\\\\n",
       "\t NA & 186 &  9.2 & 84 & 6 &  4\\\\\n",
       "\t NA & 220 &  8.6 & 85 & 6 &  5\\\\\n",
       "\t NA & 264 & 14.3 & 79 & 6 &  6\\\\\n",
       "\t NA & 273 &  6.9 & 87 & 6 &  8\\\\\n",
       "\t NA & 259 & 10.9 & 93 & 6 & 11\\\\\n",
       "\t NA & 250 &  9.2 & 92 & 6 & 12\\\\\n",
       "\t NA & 332 & 13.8 & 80 & 6 & 14\\\\\n",
       "\t NA & 322 & 11.5 & 79 & 6 & 15\\\\\n",
       "\t NA & 150 &  6.3 & 77 & 6 & 21\\\\\n",
       "\t NA &  59 &  1.7 & 76 & 6 & 22\\\\\n",
       "\t NA &  91 &  4.6 & 76 & 6 & 23\\\\\n",
       "\t NA & 250 &  6.3 & 76 & 6 & 24\\\\\n",
       "\t NA & 135 &  8.0 & 75 & 6 & 25\\\\\n",
       "\t NA & 127 &  8.0 & 78 & 6 & 26\\\\\n",
       "\t NA &  47 & 10.3 & 73 & 6 & 27\\\\\n",
       "\t NA &  98 & 11.5 & 80 & 6 & 28\\\\\n",
       "\t NA &  31 & 14.9 & 77 & 6 & 29\\\\\n",
       "\t NA & 138 &  8.0 & 83 & 6 & 30\\\\\n",
       "\t NA & 101 & 10.9 & 84 & 7 &  4\\\\\n",
       "\t NA & 139 &  8.6 & 82 & 7 & 11\\\\\n",
       "\t NA & 291 & 14.9 & 91 & 7 & 14\\\\\n",
       "\t NA & 258 &  9.7 & 81 & 7 & 22\\\\\n",
       "\t NA & 295 & 11.5 & 82 & 7 & 23\\\\\n",
       "\t 78 &  NA &  6.9 & 86 & 8 &  4\\\\\n",
       "\t 35 &  NA &  7.4 & 85 & 8 &  5\\\\\n",
       "\t 66 &  NA &  4.6 & 87 & 8 &  6\\\\\n",
       "\t NA & 222 &  8.6 & 92 & 8 & 10\\\\\n",
       "\t NA & 137 & 11.5 & 86 & 8 & 11\\\\\n",
       "\t NA &  64 & 11.5 & 79 & 8 & 15\\\\\n",
       "\t NA & 255 & 12.6 & 75 & 8 & 23\\\\\n",
       "\t NA & 153 &  5.7 & 88 & 8 & 27\\\\\n",
       "\t NA & 145 & 13.2 & 77 & 9 & 27\\\\\n",
       "\\end{tabular}\n"
      ],
      "text/markdown": [
       "\n",
       "A tibble: 42 × 6\n",
       "\n",
       "| Ozone &lt;int&gt; | Solar.R &lt;int&gt; | Wind &lt;dbl&gt; | Temp &lt;int&gt; | Month &lt;int&gt; | Day &lt;int&gt; |\n",
       "|---|---|---|---|---|---|\n",
       "| NA |  NA | 14.3 | 56 | 5 |  5 |\n",
       "| 28 |  NA | 14.9 | 66 | 5 |  6 |\n",
       "| NA | 194 |  8.6 | 69 | 5 | 10 |\n",
       "|  7 |  NA |  6.9 | 74 | 5 | 11 |\n",
       "| NA |  66 | 16.6 | 57 | 5 | 25 |\n",
       "| NA | 266 | 14.9 | 58 | 5 | 26 |\n",
       "| NA |  NA |  8.0 | 57 | 5 | 27 |\n",
       "| NA | 286 |  8.6 | 78 | 6 |  1 |\n",
       "| NA | 287 |  9.7 | 74 | 6 |  2 |\n",
       "| NA | 242 | 16.1 | 67 | 6 |  3 |\n",
       "| NA | 186 |  9.2 | 84 | 6 |  4 |\n",
       "| NA | 220 |  8.6 | 85 | 6 |  5 |\n",
       "| NA | 264 | 14.3 | 79 | 6 |  6 |\n",
       "| NA | 273 |  6.9 | 87 | 6 |  8 |\n",
       "| NA | 259 | 10.9 | 93 | 6 | 11 |\n",
       "| NA | 250 |  9.2 | 92 | 6 | 12 |\n",
       "| NA | 332 | 13.8 | 80 | 6 | 14 |\n",
       "| NA | 322 | 11.5 | 79 | 6 | 15 |\n",
       "| NA | 150 |  6.3 | 77 | 6 | 21 |\n",
       "| NA |  59 |  1.7 | 76 | 6 | 22 |\n",
       "| NA |  91 |  4.6 | 76 | 6 | 23 |\n",
       "| NA | 250 |  6.3 | 76 | 6 | 24 |\n",
       "| NA | 135 |  8.0 | 75 | 6 | 25 |\n",
       "| NA | 127 |  8.0 | 78 | 6 | 26 |\n",
       "| NA |  47 | 10.3 | 73 | 6 | 27 |\n",
       "| NA |  98 | 11.5 | 80 | 6 | 28 |\n",
       "| NA |  31 | 14.9 | 77 | 6 | 29 |\n",
       "| NA | 138 |  8.0 | 83 | 6 | 30 |\n",
       "| NA | 101 | 10.9 | 84 | 7 |  4 |\n",
       "| NA | 139 |  8.6 | 82 | 7 | 11 |\n",
       "| NA | 291 | 14.9 | 91 | 7 | 14 |\n",
       "| NA | 258 |  9.7 | 81 | 7 | 22 |\n",
       "| NA | 295 | 11.5 | 82 | 7 | 23 |\n",
       "| 78 |  NA |  6.9 | 86 | 8 |  4 |\n",
       "| 35 |  NA |  7.4 | 85 | 8 |  5 |\n",
       "| 66 |  NA |  4.6 | 87 | 8 |  6 |\n",
       "| NA | 222 |  8.6 | 92 | 8 | 10 |\n",
       "| NA | 137 | 11.5 | 86 | 8 | 11 |\n",
       "| NA |  64 | 11.5 | 79 | 8 | 15 |\n",
       "| NA | 255 | 12.6 | 75 | 8 | 23 |\n",
       "| NA | 153 |  5.7 | 88 | 8 | 27 |\n",
       "| NA | 145 | 13.2 | 77 | 9 | 27 |\n",
       "\n"
      ],
      "text/plain": [
       "   Ozone Solar.R Wind Temp Month Day\n",
       "1  NA     NA     14.3 56   5      5 \n",
       "2  28     NA     14.9 66   5      6 \n",
       "3  NA    194      8.6 69   5     10 \n",
       "4   7     NA      6.9 74   5     11 \n",
       "5  NA     66     16.6 57   5     25 \n",
       "6  NA    266     14.9 58   5     26 \n",
       "7  NA     NA      8.0 57   5     27 \n",
       "8  NA    286      8.6 78   6      1 \n",
       "9  NA    287      9.7 74   6      2 \n",
       "10 NA    242     16.1 67   6      3 \n",
       "11 NA    186      9.2 84   6      4 \n",
       "12 NA    220      8.6 85   6      5 \n",
       "13 NA    264     14.3 79   6      6 \n",
       "14 NA    273      6.9 87   6      8 \n",
       "15 NA    259     10.9 93   6     11 \n",
       "16 NA    250      9.2 92   6     12 \n",
       "17 NA    332     13.8 80   6     14 \n",
       "18 NA    322     11.5 79   6     15 \n",
       "19 NA    150      6.3 77   6     21 \n",
       "20 NA     59      1.7 76   6     22 \n",
       "21 NA     91      4.6 76   6     23 \n",
       "22 NA    250      6.3 76   6     24 \n",
       "23 NA    135      8.0 75   6     25 \n",
       "24 NA    127      8.0 78   6     26 \n",
       "25 NA     47     10.3 73   6     27 \n",
       "26 NA     98     11.5 80   6     28 \n",
       "27 NA     31     14.9 77   6     29 \n",
       "28 NA    138      8.0 83   6     30 \n",
       "29 NA    101     10.9 84   7      4 \n",
       "30 NA    139      8.6 82   7     11 \n",
       "31 NA    291     14.9 91   7     14 \n",
       "32 NA    258      9.7 81   7     22 \n",
       "33 NA    295     11.5 82   7     23 \n",
       "34 78     NA      6.9 86   8      4 \n",
       "35 35     NA      7.4 85   8      5 \n",
       "36 66     NA      4.6 87   8      6 \n",
       "37 NA    222      8.6 92   8     10 \n",
       "38 NA    137     11.5 86   8     11 \n",
       "39 NA     64     11.5 79   8     15 \n",
       "40 NA    255     12.6 75   8     23 \n",
       "41 NA    153      5.7 88   8     27 \n",
       "42 NA    145     13.2 77   9     27 "
      ]
     },
     "metadata": {},
     "output_type": "display_data"
    }
   ],
   "source": [
    "airs <- as_tibble(airquality)\n",
    "filter(airs, is.na(Ozone) | is.na(Solar.R))"
   ]
  },
  {
   "cell_type": "code",
   "execution_count": null,
   "metadata": {},
   "outputs": [],
   "source": []
  },
  {
   "cell_type": "code",
   "execution_count": null,
   "metadata": {},
   "outputs": [],
   "source": []
  }
 ],
 "metadata": {
  "kernelspec": {
   "display_name": "R",
   "language": "R",
   "name": "ir"
  },
  "language_info": {
   "codemirror_mode": "r",
   "file_extension": ".r",
   "mimetype": "text/x-r-source",
   "name": "R",
   "pygments_lexer": "r",
   "version": "3.5.2"
  }
 },
 "nbformat": 4,
 "nbformat_minor": 2
}
