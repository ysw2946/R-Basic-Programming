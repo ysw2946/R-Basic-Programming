{
 "cells": [
  {
   "cell_type": "markdown",
   "metadata": {},
   "source": [
    "# 1장"
   ]
  },
  {
   "cell_type": "code",
   "execution_count": 2,
   "metadata": {},
   "outputs": [
    {
     "data": {
      "text/plain": [
       "   Min. 1st Qu.  Median    Mean 3rd Qu.    Max. \n",
       "   4.00    8.25   10.50   10.10   12.75   14.00 "
      ]
     },
     "metadata": {},
     "output_type": "display_data"
    },
    {
     "data": {
      "text/plain": [
       "   Min. 1st Qu.  Median    Mean 3rd Qu.    Max. \n",
       "    2.0    11.5    17.5    17.7    25.5    34.0 "
      ]
     },
     "metadata": {},
     "output_type": "display_data"
    },
    {
     "data": {
      "text/html": [
       "0.917697065887156"
      ],
      "text/latex": [
       "0.917697065887156"
      ],
      "text/markdown": [
       "0.917697065887156"
      ],
      "text/plain": [
       "[1] 0.9176971"
      ]
     },
     "metadata": {},
     "output_type": "display_data"
    },
    {
     "data": {
      "image/png": "[encoded data removed]",
      "text/plain": [
       "plot without title"
      ]
     },
     "metadata": {
      "image/png": {
       "height": 420,
       "width": 420
      }
     },
     "output_type": "display_data"
    }
   ],
   "source": [
    "speed <- c(4,7,8,9,10,11,12,13,13,14)\n",
    "dist <- c(2,4,16,10,18,17,24,34,26,26)\n",
    "summary(speed) #speed의 기초통계량\n",
    "summary(dist)\n",
    "cor(speed,dist) #speed,dist의 상관계수\n",
    "plot(speed,dist) #speed,dist의 산점도"
   ]
  },
  {
   "cell_type": "code",
   "execution_count": 3,
   "metadata": {},
   "outputs": [
    {
     "data": {
      "text/html": [
       "'D:/알기초프로그래밍'"
      ],
      "text/latex": [
       "'D:/알기초프로그래밍'"
      ],
      "text/markdown": [
       "'D:/알기초프로그래밍'"
      ],
      "text/plain": [
       "[1] \"D:/알기초프로그래밍\""
      ]
     },
     "metadata": {},
     "output_type": "display_data"
    },
    {
     "data": {
      "text/html": [
       "<style>\n",
       ".list-inline {list-style: none; margin:0; padding: 0}\n",
       ".list-inline>li {display: inline-block}\n",
       ".list-inline>li:not(:last-child)::after {content: \"\\00b7\"; padding: 0 .5ex}\n",
       "</style>\n",
       "<ol class=list-inline><li>'dist'</li><li>'speed'</li></ol>\n"
      ],
      "text/latex": [
       "\\begin{enumerate*}\n",
       "\\item 'dist'\n",
       "\\item 'speed'\n",
       "\\end{enumerate*}\n"
      ],
      "text/markdown": [
       "1. 'dist'\n",
       "2. 'speed'\n",
       "\n",
       "\n"
      ],
      "text/plain": [
       "[1] \"dist\"  \"speed\""
      ]
     },
     "metadata": {},
     "output_type": "display_data"
    }
   ],
   "source": [
    "getwd() #현재의 작업 디렉토리 확인\n",
    "ls() #작업공간에 임시 저장된 객체 리스트 확인"
   ]
  },
  {
   "cell_type": "markdown",
   "metadata": {},
   "source": [
    "### 작업공간에 임시 저장된 앞서 실행시킨 명령문 확인\n",
    "+ Console 창에서 위,아래 화살표 키 이용\n",
    "+ History 창에서 확인"
   ]
  },
  {
   "cell_type": "markdown",
   "metadata": {},
   "source": [
    "## 작업 공간의 저장\n",
    "### R세션 중 생성된 객체를 작업 디렉토리에 파일 .RData로 저장\n",
    "1) 함수 save.image() 실행\n",
    "\n",
    "2) R 종료시\n",
    "+ 함수 q()로 종료시\n",
    "+ 메뉴 File > Quit Session 으로 종료 시\n",
    "\n",
    "+ R세션 중 입력한 명령문은 파일 .Rhistory 로 저장되는 것이 디폴트"
   ]
  },
  {
   "cell_type": "markdown",
   "metadata": {},
   "source": [
    "### 디폴트 작업 디렉터리 변경\n",
    "+ 작업 디렉터리 변경\n",
    "\n",
    "    1) 함수 setwd() 실행\n",
    " \n",
    "    2) 메뉴 Session > Set Working directory > Choose directory\n",
    " \n",
    "    3) File 창메뉴 More > Set as working directory\n",
    "    \n",
    "    \n",
    "+ 초보 단계에서는 변경활 필요가 없음"
   ]
  },
  {
   "cell_type": "markdown",
   "metadata": {},
   "source": [
    "### 파일로 저장된 작업공간\n",
    "+ 디폴트 작업 디렉토리에 저장 된 경우 : R이 다시 시작되면 자동으로 올라옴\n",
    "+ 작업공간의 저장 : 실제 상황에서는 사용하지 않는 것이 바람직함\n",
    "+ 현재 저장된 작업공간은 제거하기 바람"
   ]
  },
  {
   "cell_type": "markdown",
   "metadata": {},
   "source": [
    "### R의 확장 : 패키지\n",
    "+ 패키지 : 사용자가 작성한 R함수, 데이터 등을 모아 놓은 것\n",
    "\n",
    "+ CRAN 사이트에 현재 15300여 개의 패키지가 있음\n",
    "+ 다양한 분석도구 제공\n",
    "+ 모든 패키지의 특성 파악은 불가능\n",
    "+ 내가 필요한 분석기법이 어떤 패키지에 있는지 알아내는 것이 어렵다는 문제가 있음\n",
    "+ 간혹 문제가 있는 패키지가 있을 수도 있다는 점을 항상 유의"
   ]
  },
  {
   "cell_type": "markdown",
   "metadata": {},
   "source": [
    "### 패키지의 종류\n",
    "+ 패키지는 세종류로 나뉘며 어떻게 설치가 되고 어떤방식으로 로딩이 되느냐로 나눠짐\n",
    "\n",
    "+ base 패키지 : R의 base 시스템의 일부분처럼 작동\n",
    "\n",
    "+ recommended 패키지 : 자동으로 설치되지만, 사용하기 위해서는 R세션으로 따로 불러들여야 함\n",
    "\n",
    "+ 그 외 다른패키지 : 사용자가 직접 설치히고 R세션으로 불러들여야 사용할 수 있음"
   ]
  },
  {
   "cell_type": "markdown",
   "metadata": {},
   "source": [
    "### 패키지의 설치 및 이용\n",
    "+ install.packages(\"패키지이름\") 으로 설치\n",
    "+ 또는 Packages 창의 Install 이용\n",
    "+ require() or library() 으로 패키지 사용"
   ]
  },
  {
   "cell_type": "markdown",
   "metadata": {},
   "source": [
    "### tidyverse"
   ]
  },
  {
   "cell_type": "markdown",
   "metadata": {},
   "source": [
    "+ Data science를 위해 개발된 패키지들의 묶음\n",
    "+ 공통된 분석 방식 공유\n",
    "+ 자료분석에 필요한 모든 과정이 망라되어 있음"
   ]
  },
  {
   "cell_type": "markdown",
   "metadata": {},
   "source": [
    "### Core tidyverse"
   ]
  },
  {
   "cell_type": "markdown",
   "metadata": {},
   "source": [
    "+ 자료 불러오기 : readr\n",
    "+ 분석하기 편리한 형태의 자료 만들기 : tibble, tidyr\n",
    "+ 자료 다루기 : dplyr, stringr, forcats\n",
    "+ 자료 시각화 : ggplot2\n",
    "+ 함수형 프로그래밍 : purrr"
   ]
  },
  {
   "cell_type": "code",
   "execution_count": null,
   "metadata": {},
   "outputs": [],
   "source": []
  }
 ],
 "metadata": {
  "kernelspec": {
   "display_name": "R",
   "language": "R",
   "name": "ir"
  },
  "language_info": {
   "codemirror_mode": "r",
   "file_extension": ".r",
   "mimetype": "text/x-r-source",
   "name": "R",
   "pygments_lexer": "r",
   "version": "3.5.2"
  }
 },
 "nbformat": 4,
 "nbformat_minor": 2
}
